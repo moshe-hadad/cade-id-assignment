{
 "cells": [
  {
   "cell_type": "markdown",
   "source": [
    "In the data analysis phase we identify the query and MessageAttributes columns as candidates for generating additional features.\n",
    "For each row containing a query, we will break the query into key value pairs and add the keys as columns and the values as cells.\n",
    "For the MessageAttributes we will extract request and response payload values and add them as new or existing columns (depending on the values).\n",
    "\n",
    "First we break the SQL query and create more features"
   ],
   "metadata": {
    "collapsed": false
   }
  },
  {
   "cell_type": "code",
   "execution_count": 2,
   "outputs": [],
   "source": [
    "import os\n",
    "import case_id_assignment.utilities as util\n",
    "import case_id_assignment.feature_engineering as fe\n",
    "data_folder = '../data'\n",
    "processed_data_folder = '../processed_data'"
   ],
   "metadata": {
    "collapsed": false
   }
  },
  {
   "cell_type": "code",
   "execution_count": 3,
   "outputs": [
    {
     "data": {
      "text/plain": "Convert SQL Queries into additional columns:   0%|          | 0/26006 [00:00<?, ?it/s]",
      "application/vnd.jupyter.widget-view+json": {
       "version_major": 2,
       "version_minor": 0,
       "model_id": "08ad4cd81bce43749b604fc8fc10af16"
      }
     },
     "metadata": {},
     "output_type": "display_data"
    },
    {
     "name": "stdout",
     "output_type": "stream",
     "text": [
      "finished processing the data, create data frames\n",
      "merge data frames to one global data frame\n"
     ]
    }
   ],
   "source": [
    "isolated_data_path = os.path.join(data_folder, 'ptp_isolated_data.csv')\n",
    "df = util.load_data_set(isolated_data_path)\n",
    "df = fe.generate_features_from_sql(df)"
   ],
   "metadata": {
    "collapsed": false
   }
  },
  {
   "cell_type": "markdown",
   "source": [
    " Then we create more features from the MessageAttributes"
   ],
   "metadata": {
    "collapsed": false
   }
  },
  {
   "cell_type": "code",
   "execution_count": null,
   "outputs": [],
   "source": [
    "df_processed = fe.generate_features_from_http(data_set=df)\n",
    "df_processed.info()"
   ],
   "metadata": {
    "collapsed": false
   }
  },
  {
   "cell_type": "markdown",
   "source": [
    "Next part is imputation of the data - we will use hot deck imputation"
   ],
   "metadata": {
    "collapsed": false
   }
  },
  {
   "cell_type": "code",
   "execution_count": 4,
   "outputs": [
    {
     "name": "stderr",
     "output_type": "stream",
     "text": [
      "C:\\Research\\cade-id-assignment\\src\\case_id_assignment\\utilities.py:17: DtypeWarning: Columns (27,33,35,36,61,63,69,77,78,91,108,109,110,111,112,113,116,119,122,123,126,127,128,129,130,132,133,134,136,137,140,141,142,144,145,148,149,152,154,155,157,158,160,161,166,174,179,186,189,190,191,192,199,202,205,206,208,211,213,215,230,231,232,234,235) have mixed types. Specify dtype option on import or set low_memory=False.\n",
      "  return pd.read_csv(file_path)\n"
     ]
    }
   ],
   "source": [
    "processed_data_path = os.path.join(processed_data_folder, 'isolated_df_processed.csv')\n",
    "p_df = util.load_data_set(processed_data_path)"
   ],
   "metadata": {
    "collapsed": false
   }
  },
  {
   "cell_type": "code",
   "execution_count": 5,
   "outputs": [
    {
     "data": {
      "text/plain": "   Unnamed: 0                      FileName       BusinessActivity  \\\n0           0  CreatePurchaseRequest_1.pcap  CreatePurchaseRequest   \n1           1  CreatePurchaseRequest_1.pcap  CreatePurchaseRequest   \n2           2  CreatePurchaseRequest_1.pcap  CreatePurchaseRequest   \n3           3  CreatePurchaseRequest_1.pcap  CreatePurchaseRequest   \n4           4  CreatePurchaseRequest_1.pcap  CreatePurchaseRequest   \n\n   InstanceNumber                  sniff_time  frame.number  \\\n0               1  2020-12-21 08:08:44.637118           119   \n1               1  2020-12-21 08:08:44.688344           153   \n2               1  2020-12-21 08:08:44.690577           161   \n3               1  2020-12-21 08:08:44.985813           224   \n4               1  2020-12-21 08:08:44.994598           245   \n\n         synthetic_sniff_time    synthetic_sniff_time_str  \\\n0  2020-12-22 11:39:44.237118  2020-12-22 11:39:44.237118   \n1  2020-12-22 11:48:16.548344  2020-12-22 11:48:16.548344   \n2  2020-12-22 11:48:38.880577  2020-12-22 11:48:38.880577   \n3  2020-12-22 12:37:51.535813  2020-12-22 12:37:51.535813   \n4  2020-12-22 12:39:19.394598  2020-12-22 12:39:19.394598   \n\n             session_generalized HighestLayerProtocol  ... multi payment_date  \\\n0  192.168.11.2-192.168.11.9 (1)                 http  ...   NaN          NaN   \n1  192.168.11.2-192.168.11.9 (1)                 http  ...   NaN          NaN   \n2  192.168.11.2-192.168.11.9 (2)                 http  ...   NaN          NaN   \n3  192.168.11.1-192.168.11.2 (7)                pgsql  ...   NaN          NaN   \n4  192.168.11.2-192.168.11.9 (2)                 http  ...   NaN          NaN   \n\n  payment_difference_handling payment_method_id payment_type  writeoff_label  \\\n0                         NaN               NaN          NaN             NaN   \n1                         NaN               NaN          NaN             NaN   \n2                         NaN               NaN          NaN             NaN   \n3                         NaN               NaN          NaN             NaN   \n4                         NaN               NaN          NaN             NaN   \n\n  payment_term_id request_method_call starting_frame_number  \\\n0             NaN             version                   NaN   \n1             NaN      server_version                 119.0   \n2             NaN        authenticate                   NaN   \n3             NaN                 NaN                   NaN   \n4             NaN                   2                 161.0   \n\n                                           file_data  \n0                                        ['version']  \n1  ['server_version', '12.0-20190820', 'server_ve...  \n2  ['authenticate', 'odoo01', 'user.suername@comp...  \n3                                                 []  \n4                                              ['2']  \n\n[5 rows x 240 columns]",
      "text/html": "<div>\n<style scoped>\n    .dataframe tbody tr th:only-of-type {\n        vertical-align: middle;\n    }\n\n    .dataframe tbody tr th {\n        vertical-align: top;\n    }\n\n    .dataframe thead th {\n        text-align: right;\n    }\n</style>\n<table border=\"1\" class=\"dataframe\">\n  <thead>\n    <tr style=\"text-align: right;\">\n      <th></th>\n      <th>Unnamed: 0</th>\n      <th>FileName</th>\n      <th>BusinessActivity</th>\n      <th>InstanceNumber</th>\n      <th>sniff_time</th>\n      <th>frame.number</th>\n      <th>synthetic_sniff_time</th>\n      <th>synthetic_sniff_time_str</th>\n      <th>session_generalized</th>\n      <th>HighestLayerProtocol</th>\n      <th>...</th>\n      <th>multi</th>\n      <th>payment_date</th>\n      <th>payment_difference_handling</th>\n      <th>payment_method_id</th>\n      <th>payment_type</th>\n      <th>writeoff_label</th>\n      <th>payment_term_id</th>\n      <th>request_method_call</th>\n      <th>starting_frame_number</th>\n      <th>file_data</th>\n    </tr>\n  </thead>\n  <tbody>\n    <tr>\n      <th>0</th>\n      <td>0</td>\n      <td>CreatePurchaseRequest_1.pcap</td>\n      <td>CreatePurchaseRequest</td>\n      <td>1</td>\n      <td>2020-12-21 08:08:44.637118</td>\n      <td>119</td>\n      <td>2020-12-22 11:39:44.237118</td>\n      <td>2020-12-22 11:39:44.237118</td>\n      <td>192.168.11.2-192.168.11.9 (1)</td>\n      <td>http</td>\n      <td>...</td>\n      <td>NaN</td>\n      <td>NaN</td>\n      <td>NaN</td>\n      <td>NaN</td>\n      <td>NaN</td>\n      <td>NaN</td>\n      <td>NaN</td>\n      <td>version</td>\n      <td>NaN</td>\n      <td>['version']</td>\n    </tr>\n    <tr>\n      <th>1</th>\n      <td>1</td>\n      <td>CreatePurchaseRequest_1.pcap</td>\n      <td>CreatePurchaseRequest</td>\n      <td>1</td>\n      <td>2020-12-21 08:08:44.688344</td>\n      <td>153</td>\n      <td>2020-12-22 11:48:16.548344</td>\n      <td>2020-12-22 11:48:16.548344</td>\n      <td>192.168.11.2-192.168.11.9 (1)</td>\n      <td>http</td>\n      <td>...</td>\n      <td>NaN</td>\n      <td>NaN</td>\n      <td>NaN</td>\n      <td>NaN</td>\n      <td>NaN</td>\n      <td>NaN</td>\n      <td>NaN</td>\n      <td>server_version</td>\n      <td>119.0</td>\n      <td>['server_version', '12.0-20190820', 'server_ve...</td>\n    </tr>\n    <tr>\n      <th>2</th>\n      <td>2</td>\n      <td>CreatePurchaseRequest_1.pcap</td>\n      <td>CreatePurchaseRequest</td>\n      <td>1</td>\n      <td>2020-12-21 08:08:44.690577</td>\n      <td>161</td>\n      <td>2020-12-22 11:48:38.880577</td>\n      <td>2020-12-22 11:48:38.880577</td>\n      <td>192.168.11.2-192.168.11.9 (2)</td>\n      <td>http</td>\n      <td>...</td>\n      <td>NaN</td>\n      <td>NaN</td>\n      <td>NaN</td>\n      <td>NaN</td>\n      <td>NaN</td>\n      <td>NaN</td>\n      <td>NaN</td>\n      <td>authenticate</td>\n      <td>NaN</td>\n      <td>['authenticate', 'odoo01', 'user.suername@comp...</td>\n    </tr>\n    <tr>\n      <th>3</th>\n      <td>3</td>\n      <td>CreatePurchaseRequest_1.pcap</td>\n      <td>CreatePurchaseRequest</td>\n      <td>1</td>\n      <td>2020-12-21 08:08:44.985813</td>\n      <td>224</td>\n      <td>2020-12-22 12:37:51.535813</td>\n      <td>2020-12-22 12:37:51.535813</td>\n      <td>192.168.11.1-192.168.11.2 (7)</td>\n      <td>pgsql</td>\n      <td>...</td>\n      <td>NaN</td>\n      <td>NaN</td>\n      <td>NaN</td>\n      <td>NaN</td>\n      <td>NaN</td>\n      <td>NaN</td>\n      <td>NaN</td>\n      <td>NaN</td>\n      <td>NaN</td>\n      <td>[]</td>\n    </tr>\n    <tr>\n      <th>4</th>\n      <td>4</td>\n      <td>CreatePurchaseRequest_1.pcap</td>\n      <td>CreatePurchaseRequest</td>\n      <td>1</td>\n      <td>2020-12-21 08:08:44.994598</td>\n      <td>245</td>\n      <td>2020-12-22 12:39:19.394598</td>\n      <td>2020-12-22 12:39:19.394598</td>\n      <td>192.168.11.2-192.168.11.9 (2)</td>\n      <td>http</td>\n      <td>...</td>\n      <td>NaN</td>\n      <td>NaN</td>\n      <td>NaN</td>\n      <td>NaN</td>\n      <td>NaN</td>\n      <td>NaN</td>\n      <td>NaN</td>\n      <td>2</td>\n      <td>161.0</td>\n      <td>['2']</td>\n    </tr>\n  </tbody>\n</table>\n<p>5 rows × 240 columns</p>\n</div>"
     },
     "execution_count": 5,
     "metadata": {},
     "output_type": "execute_result"
    }
   ],
   "source": [
    "p_df.head()"
   ],
   "metadata": {
    "collapsed": false
   }
  },
  {
   "cell_type": "code",
   "execution_count": 7,
   "outputs": [
    {
     "data": {
      "text/plain": "'write_date'"
     },
     "execution_count": 7,
     "metadata": {},
     "output_type": "execute_result"
    }
   ],
   "source": [
    "column_for_search = p_df.columns[25]\n",
    "column_for_search"
   ],
   "metadata": {
    "collapsed": false
   }
  },
  {
   "cell_type": "code",
   "execution_count": 18,
   "outputs": [
    {
     "data": {
      "text/plain": "   frame.number HighestLayerProtocol  \\\n0           119                 http   \n1           153                 http   \n2           161                 http   \n3           224                pgsql   \n4           245                 http   \n5           253                 http   \n\n                                   MessageAttributes  \n0  {'': 'POST /xmlrpc/2/common HTTP/1.1\\\\r\\\\n', '...  \n1  {'': 'HTTP/1.0 200 OK\\\\r\\\\n', '_ws.expert': 'E...  \n2  {'': 'POST /xmlrpc/2/common HTTP/1.1\\\\r\\\\n', '...  \n3  {'pgsql.type': 'Simple query', 'pgsql.length':...  \n4  {'': 'HTTP/1.0 200 OK\\\\r\\\\n', '_ws.expert': 'E...  \n5  {'': 'POST /xmlrpc/2/object HTTP/1.1\\\\r\\\\n', '...  ",
      "text/html": "<div>\n<style scoped>\n    .dataframe tbody tr th:only-of-type {\n        vertical-align: middle;\n    }\n\n    .dataframe tbody tr th {\n        vertical-align: top;\n    }\n\n    .dataframe thead th {\n        text-align: right;\n    }\n</style>\n<table border=\"1\" class=\"dataframe\">\n  <thead>\n    <tr style=\"text-align: right;\">\n      <th></th>\n      <th>frame.number</th>\n      <th>HighestLayerProtocol</th>\n      <th>MessageAttributes</th>\n    </tr>\n  </thead>\n  <tbody>\n    <tr>\n      <th>0</th>\n      <td>119</td>\n      <td>http</td>\n      <td>{'': 'POST /xmlrpc/2/common HTTP/1.1\\\\r\\\\n', '...</td>\n    </tr>\n    <tr>\n      <th>1</th>\n      <td>153</td>\n      <td>http</td>\n      <td>{'': 'HTTP/1.0 200 OK\\\\r\\\\n', '_ws.expert': 'E...</td>\n    </tr>\n    <tr>\n      <th>2</th>\n      <td>161</td>\n      <td>http</td>\n      <td>{'': 'POST /xmlrpc/2/common HTTP/1.1\\\\r\\\\n', '...</td>\n    </tr>\n    <tr>\n      <th>3</th>\n      <td>224</td>\n      <td>pgsql</td>\n      <td>{'pgsql.type': 'Simple query', 'pgsql.length':...</td>\n    </tr>\n    <tr>\n      <th>4</th>\n      <td>245</td>\n      <td>http</td>\n      <td>{'': 'HTTP/1.0 200 OK\\\\r\\\\n', '_ws.expert': 'E...</td>\n    </tr>\n    <tr>\n      <th>5</th>\n      <td>253</td>\n      <td>http</td>\n      <td>{'': 'POST /xmlrpc/2/object HTTP/1.1\\\\r\\\\n', '...</td>\n    </tr>\n  </tbody>\n</table>\n</div>"
     },
     "execution_count": 18,
     "metadata": {},
     "output_type": "execute_result"
    }
   ],
   "source": [
    "p_df[['frame.number','HighestLayerProtocol','MessageAttributes']][:6]"
   ],
   "metadata": {
    "collapsed": false
   }
  },
  {
   "cell_type": "code",
   "execution_count": 12,
   "outputs": [],
   "source": [
    "p_df[\"Indexes\"]= p_df[\"MessageAttributes\"].str.find(column_for_search)"
   ],
   "metadata": {
    "collapsed": false
   }
  },
  {
   "cell_type": "code",
   "execution_count": 13,
   "outputs": [
    {
     "data": {
      "text/plain": "0         -1\n1         -1\n2         -1\n3        171\n4         -1\n        ... \n26001     -1\n26002     -1\n26003    170\n26004     -1\n26005    169\nName: Indexes, Length: 26006, dtype: int64"
     },
     "execution_count": 13,
     "metadata": {},
     "output_type": "execute_result"
    }
   ],
   "source": [
    "p_df[\"Indexes\"]"
   ],
   "metadata": {
    "collapsed": false
   }
  },
  {
   "cell_type": "code",
   "execution_count": null,
   "outputs": [],
   "source": [],
   "metadata": {
    "collapsed": false
   }
  }
 ],
 "metadata": {
  "kernelspec": {
   "display_name": "Python 3",
   "language": "python",
   "name": "python3"
  },
  "language_info": {
   "codemirror_mode": {
    "name": "ipython",
    "version": 2
   },
   "file_extension": ".py",
   "mimetype": "text/x-python",
   "name": "python",
   "nbconvert_exporter": "python",
   "pygments_lexer": "ipython2",
   "version": "2.7.6"
  }
 },
 "nbformat": 4,
 "nbformat_minor": 0
}
