{
 "cells": [
  {
   "cell_type": "markdown",
   "source": [
    "There are two type of data sets, isolated data set and interleaved data set.\n",
    "The isolated data set is ../data/ptp_isolated_data.csv. The interleaved data set is ../data/ptp_interleaved_data.csv. (PTP stands for Purchase to Pay).\n",
    "The isolated data set was created by recording the network traffic while only one business process was performed in an isolated manner. In this data all the packets are labeled by the activity and business process case.\n",
    "The interleaved data set was created by running multiple business processes in parallel. In the resulting data set, the activities' packets are interleaved. In this data only the packets representing the activity start and end are labeled and for those packets we also labeled the case id.\n",
    "\n",
    "The first step it to observe the data. We focus on the isolated data set."
   ],
   "metadata": {
    "collapsed": false
   }
  },
  {
   "cell_type": "code",
   "execution_count": 4,
   "outputs": [],
   "source": [
    "import os\n",
    "import case_id_assignment.utilities as util\n",
    "data_folder = '../data'"
   ],
   "metadata": {
    "collapsed": false
   }
  },
  {
   "cell_type": "code",
   "execution_count": 2,
   "outputs": [
    {
     "data": {
      "text/plain": "   Unnamed: 0                      FileName       BusinessActivity  \\\n0           0  CreatePurchaseRequest_1.pcap  CreatePurchaseRequest   \n1           1  CreatePurchaseRequest_1.pcap  CreatePurchaseRequest   \n2           2  CreatePurchaseRequest_1.pcap  CreatePurchaseRequest   \n3           3  CreatePurchaseRequest_1.pcap  CreatePurchaseRequest   \n4           4  CreatePurchaseRequest_1.pcap  CreatePurchaseRequest   \n\n   InstanceNumber                  sniff_time  frame.number  \\\n0               1  2020-12-21 08:08:44.637118           119   \n1               1  2020-12-21 08:08:44.688344           153   \n2               1  2020-12-21 08:08:44.690577           161   \n3               1  2020-12-21 08:08:44.985813           224   \n4               1  2020-12-21 08:08:44.994598           245   \n\n         synthetic_sniff_time    synthetic_sniff_time_str  \\\n0  2020-12-22 11:39:44.237118  2020-12-22 11:39:44.237118   \n1  2020-12-22 11:48:16.548344  2020-12-22 11:48:16.548344   \n2  2020-12-22 11:48:38.880577  2020-12-22 11:48:38.880577   \n3  2020-12-22 12:37:51.535813  2020-12-22 12:37:51.535813   \n4  2020-12-22 12:39:19.394598  2020-12-22 12:39:19.394598   \n\n             session_generalized HighestLayerProtocol  ...  \\\n0  192.168.11.2-192.168.11.9 (1)                 http  ...   \n1  192.168.11.2-192.168.11.9 (1)                 http  ...   \n2  192.168.11.2-192.168.11.9 (2)                 http  ...   \n3  192.168.11.1-192.168.11.2 (7)                pgsql  ...   \n4  192.168.11.2-192.168.11.9 (2)                 http  ...   \n\n                                      MessageType  \\\n0  HttpRequest:POST /xmlrpc/2/common HTTP/1.1\\r\\n   \n1                HttpResponse:HTTP/1.0 200 OK\\r\\n   \n2  HttpRequest:POST /xmlrpc/2/common HTTP/1.1\\r\\n   \n3                       PgsqlRequest:Simple query   \n4                HttpResponse:HTTP/1.0 200 OK\\r\\n   \n\n                                   MessageAttributes query_type session_class  \\\n0  {'': 'POST /xmlrpc/2/common HTTP/1.1\\\\r\\\\n', '...        NaN          http   \n1  {'': 'HTTP/1.0 200 OK\\\\r\\\\n', '_ws.expert': 'E...        NaN          http   \n2  {'': 'POST /xmlrpc/2/common HTTP/1.1\\\\r\\\\n', '...        NaN          http   \n3  {'pgsql.type': 'Simple query', 'pgsql.length':...     INSERT         pgsql   \n4  {'': 'HTTP/1.0 200 OK\\\\r\\\\n', '_ws.expert': 'E...        NaN          http   \n\n  filter_flag                                              query  \\\n0        True                                                NaN   \n1        True                                                NaN   \n2        True                                                NaN   \n3        True  INSERT INTO \"res_users_log\" (\"id\", \"create_uid...   \n4        True                                                NaN   \n\n              tables                                              event  \\\n0                NaN     HttpRequest:POST /xmlrpc/2/common HTTP/1.1\\r\\n   \n1                NaN                   HttpResponse:HTTP/1.0 200 OK\\r\\n   \n2                NaN     HttpRequest:POST /xmlrpc/2/common HTTP/1.1\\r\\n   \n3  ['res_users_log']  PgsqlRequest:Simple query:INSERT:['res_users_l...   \n4                NaN                   HttpResponse:HTTP/1.0 200 OK\\r\\n   \n\n                                    event_with_roles noise_event  \n0  End Point (Employee)->Odoo Application: [HttpR...       False  \n1  Odoo Application->End Point (Employee): [HttpR...       False  \n2  End Point (Employee)->Odoo Application: [HttpR...       False  \n3  Odoo Application->db Server/Mail Server: [Pgsq...       False  \n4  Odoo Application->End Point (Employee): [HttpR...       False  \n\n[5 rows x 21 columns]",
      "text/html": "<div>\n<style scoped>\n    .dataframe tbody tr th:only-of-type {\n        vertical-align: middle;\n    }\n\n    .dataframe tbody tr th {\n        vertical-align: top;\n    }\n\n    .dataframe thead th {\n        text-align: right;\n    }\n</style>\n<table border=\"1\" class=\"dataframe\">\n  <thead>\n    <tr style=\"text-align: right;\">\n      <th></th>\n      <th>Unnamed: 0</th>\n      <th>FileName</th>\n      <th>BusinessActivity</th>\n      <th>InstanceNumber</th>\n      <th>sniff_time</th>\n      <th>frame.number</th>\n      <th>synthetic_sniff_time</th>\n      <th>synthetic_sniff_time_str</th>\n      <th>session_generalized</th>\n      <th>HighestLayerProtocol</th>\n      <th>...</th>\n      <th>MessageType</th>\n      <th>MessageAttributes</th>\n      <th>query_type</th>\n      <th>session_class</th>\n      <th>filter_flag</th>\n      <th>query</th>\n      <th>tables</th>\n      <th>event</th>\n      <th>event_with_roles</th>\n      <th>noise_event</th>\n    </tr>\n  </thead>\n  <tbody>\n    <tr>\n      <th>0</th>\n      <td>0</td>\n      <td>CreatePurchaseRequest_1.pcap</td>\n      <td>CreatePurchaseRequest</td>\n      <td>1</td>\n      <td>2020-12-21 08:08:44.637118</td>\n      <td>119</td>\n      <td>2020-12-22 11:39:44.237118</td>\n      <td>2020-12-22 11:39:44.237118</td>\n      <td>192.168.11.2-192.168.11.9 (1)</td>\n      <td>http</td>\n      <td>...</td>\n      <td>HttpRequest:POST /xmlrpc/2/common HTTP/1.1\\r\\n</td>\n      <td>{'': 'POST /xmlrpc/2/common HTTP/1.1\\\\r\\\\n', '...</td>\n      <td>NaN</td>\n      <td>http</td>\n      <td>True</td>\n      <td>NaN</td>\n      <td>NaN</td>\n      <td>HttpRequest:POST /xmlrpc/2/common HTTP/1.1\\r\\n</td>\n      <td>End Point (Employee)-&gt;Odoo Application: [HttpR...</td>\n      <td>False</td>\n    </tr>\n    <tr>\n      <th>1</th>\n      <td>1</td>\n      <td>CreatePurchaseRequest_1.pcap</td>\n      <td>CreatePurchaseRequest</td>\n      <td>1</td>\n      <td>2020-12-21 08:08:44.688344</td>\n      <td>153</td>\n      <td>2020-12-22 11:48:16.548344</td>\n      <td>2020-12-22 11:48:16.548344</td>\n      <td>192.168.11.2-192.168.11.9 (1)</td>\n      <td>http</td>\n      <td>...</td>\n      <td>HttpResponse:HTTP/1.0 200 OK\\r\\n</td>\n      <td>{'': 'HTTP/1.0 200 OK\\\\r\\\\n', '_ws.expert': 'E...</td>\n      <td>NaN</td>\n      <td>http</td>\n      <td>True</td>\n      <td>NaN</td>\n      <td>NaN</td>\n      <td>HttpResponse:HTTP/1.0 200 OK\\r\\n</td>\n      <td>Odoo Application-&gt;End Point (Employee): [HttpR...</td>\n      <td>False</td>\n    </tr>\n    <tr>\n      <th>2</th>\n      <td>2</td>\n      <td>CreatePurchaseRequest_1.pcap</td>\n      <td>CreatePurchaseRequest</td>\n      <td>1</td>\n      <td>2020-12-21 08:08:44.690577</td>\n      <td>161</td>\n      <td>2020-12-22 11:48:38.880577</td>\n      <td>2020-12-22 11:48:38.880577</td>\n      <td>192.168.11.2-192.168.11.9 (2)</td>\n      <td>http</td>\n      <td>...</td>\n      <td>HttpRequest:POST /xmlrpc/2/common HTTP/1.1\\r\\n</td>\n      <td>{'': 'POST /xmlrpc/2/common HTTP/1.1\\\\r\\\\n', '...</td>\n      <td>NaN</td>\n      <td>http</td>\n      <td>True</td>\n      <td>NaN</td>\n      <td>NaN</td>\n      <td>HttpRequest:POST /xmlrpc/2/common HTTP/1.1\\r\\n</td>\n      <td>End Point (Employee)-&gt;Odoo Application: [HttpR...</td>\n      <td>False</td>\n    </tr>\n    <tr>\n      <th>3</th>\n      <td>3</td>\n      <td>CreatePurchaseRequest_1.pcap</td>\n      <td>CreatePurchaseRequest</td>\n      <td>1</td>\n      <td>2020-12-21 08:08:44.985813</td>\n      <td>224</td>\n      <td>2020-12-22 12:37:51.535813</td>\n      <td>2020-12-22 12:37:51.535813</td>\n      <td>192.168.11.1-192.168.11.2 (7)</td>\n      <td>pgsql</td>\n      <td>...</td>\n      <td>PgsqlRequest:Simple query</td>\n      <td>{'pgsql.type': 'Simple query', 'pgsql.length':...</td>\n      <td>INSERT</td>\n      <td>pgsql</td>\n      <td>True</td>\n      <td>INSERT INTO \"res_users_log\" (\"id\", \"create_uid...</td>\n      <td>['res_users_log']</td>\n      <td>PgsqlRequest:Simple query:INSERT:['res_users_l...</td>\n      <td>Odoo Application-&gt;db Server/Mail Server: [Pgsq...</td>\n      <td>False</td>\n    </tr>\n    <tr>\n      <th>4</th>\n      <td>4</td>\n      <td>CreatePurchaseRequest_1.pcap</td>\n      <td>CreatePurchaseRequest</td>\n      <td>1</td>\n      <td>2020-12-21 08:08:44.994598</td>\n      <td>245</td>\n      <td>2020-12-22 12:39:19.394598</td>\n      <td>2020-12-22 12:39:19.394598</td>\n      <td>192.168.11.2-192.168.11.9 (2)</td>\n      <td>http</td>\n      <td>...</td>\n      <td>HttpResponse:HTTP/1.0 200 OK\\r\\n</td>\n      <td>{'': 'HTTP/1.0 200 OK\\\\r\\\\n', '_ws.expert': 'E...</td>\n      <td>NaN</td>\n      <td>http</td>\n      <td>True</td>\n      <td>NaN</td>\n      <td>NaN</td>\n      <td>HttpResponse:HTTP/1.0 200 OK\\r\\n</td>\n      <td>Odoo Application-&gt;End Point (Employee): [HttpR...</td>\n      <td>False</td>\n    </tr>\n  </tbody>\n</table>\n<p>5 rows × 21 columns</p>\n</div>"
     },
     "execution_count": 2,
     "metadata": {},
     "output_type": "execute_result"
    }
   ],
   "source": [
    "isolated_data_path = os.path.join(data_folder, 'ptp_isolated_data.csv')\n",
    "df = util.load_data_set(isolated_data_path)\n",
    "df.head()"
   ],
   "metadata": {
    "collapsed": false
   }
  },
  {
   "cell_type": "markdown",
   "source": [
    "From observing the first 5 rows we can identify several interesting insights. Each row is representing a packet from the network data. BusinessActivity is the column with the activity label. InstanceNumber is with the case id label. We have three timestamps sniff_time, synthetic_sniff_time and synthetic_sniff_time_str. session_generalized contain the source id, destination ip and session number.\n",
    "To gain a better description of the data we use the into method."
   ],
   "metadata": {
    "collapsed": false
   }
  },
  {
   "cell_type": "code",
   "execution_count": 4,
   "outputs": [
    {
     "name": "stdout",
     "output_type": "stream",
     "text": [
      "<class 'pandas.core.frame.DataFrame'>\n",
      "RangeIndex: 26006 entries, 0 to 26005\n",
      "Data columns (total 21 columns):\n",
      " #   Column                    Non-Null Count  Dtype \n",
      "---  ------                    --------------  ----- \n",
      " 0   Unnamed: 0                26006 non-null  int64 \n",
      " 1   FileName                  26006 non-null  object\n",
      " 2   BusinessActivity          26006 non-null  object\n",
      " 3   InstanceNumber            26006 non-null  int64 \n",
      " 4   sniff_time                26006 non-null  object\n",
      " 5   frame.number              26006 non-null  int64 \n",
      " 6   synthetic_sniff_time      26006 non-null  object\n",
      " 7   synthetic_sniff_time_str  26006 non-null  object\n",
      " 8   session_generalized       26006 non-null  object\n",
      " 9   HighestLayerProtocol      26006 non-null  object\n",
      " 10  MessageType_WithRole      26006 non-null  object\n",
      " 11  MessageType               26006 non-null  object\n",
      " 12  MessageAttributes         26006 non-null  object\n",
      " 13  query_type                20503 non-null  object\n",
      " 14  session_class             26006 non-null  object\n",
      " 15  filter_flag               26006 non-null  bool  \n",
      " 16  query                     20503 non-null  object\n",
      " 17  tables                    20503 non-null  object\n",
      " 18  event                     26006 non-null  object\n",
      " 19  event_with_roles          26006 non-null  object\n",
      " 20  noise_event               26006 non-null  bool  \n",
      "dtypes: bool(2), int64(3), object(16)\n",
      "memory usage: 3.8+ MB\n"
     ]
    }
   ],
   "source": [
    "df.info()"
   ],
   "metadata": {
    "collapsed": false
   }
  },
  {
   "cell_type": "markdown",
   "source": [
    "Looking at the results from the info method, we see we have 20 columns (potential features) and 26,006 rows (entries).\n",
    "We can also see most of the data is of type object (str). Very few columns have int or bool data type.\n",
    "This means we either need to convert the str data to a numeric values, or use method which can analyze string data.\n",
    "\n",
    "We also identify additional interesting columns (for brevity, we omitted the values since they are very long). MessageAttributes contains the payload of the HTTP message. The column query contains the query executed as part of an PGSQL packet.\n",
    "The column tables contains the list of tables affected. The column event_with_roles contains a string representation of the source machine, destination machine their roles and the message type (HTTP request, response , PGSQL etc).\n",
    "\n",
    "The next step is to perform correlation"
   ],
   "metadata": {
    "collapsed": false
   }
  },
  {
   "cell_type": "code",
   "execution_count": 5,
   "outputs": [
    {
     "name": "stderr",
     "output_type": "stream",
     "text": [
      "C:\\Users\\moshe.hadad\\AppData\\Local\\Temp\\ipykernel_10752\\3375880796.py:1: FutureWarning: The default value of numeric_only in DataFrame.corr is deprecated. In a future version, it will default to False. Select only valid columns or specify the value of numeric_only to silence this warning.\n",
      "  coor_matrix = df.corr()\n"
     ]
    },
    {
     "data": {
      "text/plain": "InstanceNumber    1.000000\nUnnamed: 0        0.127115\nframe.number      0.014340\nfilter_flag            NaN\nnoise_event            NaN\nName: InstanceNumber, dtype: float64"
     },
     "execution_count": 5,
     "metadata": {},
     "output_type": "execute_result"
    }
   ],
   "source": [
    "coor_matrix = df.corr()\n",
    "coor_matrix['InstanceNumber'].sort_values(ascending=False)"
   ],
   "metadata": {
    "collapsed": false
   }
  },
  {
   "cell_type": "markdown",
   "source": [
    "Unfortunately, the correlation method works only on numerical values. We either need to convert string data to numerical or use other method for correlation with can take string data.\n",
    "Looking at the columns again, we can omit FileName, the time stamp columns, the BusinessActivity, frame.number, filter_flag and noise_event. The actual interesting columns we want to check are those :\n",
    "session_generalized, HighestLayerProtocol, MessageType_WithRole, MessageType, MessageAttributes, query_type, session_class, query, tables, event and event_with_roles.\n",
    "For the correlation check, we can convert them to categorical value."
   ],
   "metadata": {
    "collapsed": false
   }
  },
  {
   "cell_type": "code",
   "execution_count": 7,
   "outputs": [
    {
     "name": "stderr",
     "output_type": "stream",
     "text": [
      "C:\\Users\\moshe.hadad\\AppData\\Local\\Temp\\ipykernel_10752\\2110668116.py:14: FutureWarning: The default value of numeric_only in DataFrame.corr is deprecated. In a future version, it will default to False. Select only valid columns or specify the value of numeric_only to silence this warning.\n",
      "  coor_matrix = new_df.corr()\n"
     ]
    },
    {
     "data": {
      "text/plain": "InstanceNumber          1.000000\nUnnamed: 0              0.127115\nframe.number            0.014340\nMessageAttributes       0.009125\nquery                   0.006380\ntables                  0.003556\nevent                  -0.000449\nevent_with_roles       -0.000577\nMessageType            -0.000868\nHighestLayerProtocol   -0.001234\nsession_class          -0.001234\nMessageType_WithRole   -0.001453\nquery_type             -0.001914\nsession_generalized    -0.049040\nfilter_flag                  NaN\nnoise_event                  NaN\nName: InstanceNumber, dtype: float64"
     },
     "execution_count": 7,
     "metadata": {},
     "output_type": "execute_result"
    }
   ],
   "source": [
    "new_df = df.copy()\n",
    "new_df['session_generalized']=df['session_generalized'].astype('category').cat.codes\n",
    "new_df['HighestLayerProtocol']=df['HighestLayerProtocol'].astype('category').cat.codes\n",
    "new_df['MessageType_WithRole']=df['MessageType_WithRole'].astype('category').cat.codes\n",
    "new_df['MessageType']=df['MessageType'].astype('category').cat.codes\n",
    "new_df['MessageAttributes']=df['MessageAttributes'].astype('category').cat.codes\n",
    "new_df['query_type']=df['query_type'].astype('category').cat.codes\n",
    "new_df['session_class']=df['session_class'].astype('category').cat.codes\n",
    "new_df['query']=df['query'].astype('category').cat.codes\n",
    "new_df['tables']=df['tables'].astype('category').cat.codes\n",
    "new_df['event']=df['event'].astype('category').cat.codes\n",
    "new_df['event_with_roles']=df['event_with_roles'].astype('category').cat.codes\n",
    "\n",
    "coor_matrix = new_df.corr()\n",
    "coor_matrix['InstanceNumber'].sort_values(ascending=False)"
   ],
   "metadata": {
    "collapsed": false
   }
  },
  {
   "cell_type": "markdown",
   "source": [
    "The second step it to observe the interleaved data set."
   ],
   "metadata": {
    "collapsed": false
   }
  },
  {
   "cell_type": "code",
   "execution_count": 7,
   "outputs": [
    {
     "data": {
      "text/plain": "   Unnamed: 0.2  Unnamed: 0.1  Unnamed: 0  \\\n0             0             0          27   \n1             1             1          82   \n2             2             2          86   \n3             3             3         188   \n4             4             4         258   \n\n                                          FileName  \\\n0  async_2022_08_03-0336_10_cases_10_interval.pcap   \n1  async_2022_08_03-0336_10_cases_10_interval.pcap   \n2  async_2022_08_03-0336_10_cases_10_interval.pcap   \n3  async_2022_08_03-0336_10_cases_10_interval.pcap   \n4  async_2022_08_03-0336_10_cases_10_interval.pcap   \n\n                    BusinessActivity  InstanceNumber  \\\n0  order_to_cash_interleaved_10cases            2022   \n1  order_to_cash_interleaved_10cases            2022   \n2  order_to_cash_interleaved_10cases            2022   \n3  order_to_cash_interleaved_10cases            2022   \n4  order_to_cash_interleaved_10cases            2022   \n\n                   sniff_time  frame.number        synthetic_sniff_time  \\\n0  2022-08-03 13:36:21.687676            96  2022-08-04 21:07:16.297676   \n1  2022-08-03 13:36:21.958633           137  2022-08-04 21:52:26.138633   \n2  2022-08-03 13:36:21.960536           145  2022-08-04 21:52:45.170536   \n3  2022-08-03 13:36:22.298610           209  2022-08-04 22:49:06.248610   \n4  2022-08-03 13:36:22.413521           232  2022-08-04 23:08:15.473521   \n\n     synthetic_sniff_time_str  ... session_class filter_flag  \\\n0  2022-08-04 21:07:16.297676  ...          http        True   \n1  2022-08-04 21:52:26.138633  ...          http        True   \n2  2022-08-04 21:52:45.170536  ...          http        True   \n3  2022-08-04 22:49:06.248610  ...         pgsql        True   \n4  2022-08-04 23:08:15.473521  ...          http        True   \n\n                                               query             tables  \\\n0                                                NaN                NaN   \n1                                                NaN                NaN   \n2                                                NaN                NaN   \n3  INSERT INTO \"res_users_log\" (\"id\", \"create_uid...  ['res_users_log']   \n4                                                NaN                NaN   \n\n                                               event  \\\n0     HttpRequest:POST /xmlrpc/2/common HTTP/1.1\\r\\n   \n1                   HttpResponse:HTTP/1.0 200 OK\\r\\n   \n2     HttpRequest:POST /xmlrpc/2/common HTTP/1.1\\r\\n   \n3  PgsqlRequest:Simple query:INSERT:['res_users_l...   \n4                   HttpResponse:HTTP/1.0 200 OK\\r\\n   \n\n                                    event_with_roles noise_event  \\\n0  End Point (Employee)->Odoo Application: [HttpR...       False   \n1  Odoo Application->End Point (Employee): [HttpR...       False   \n2  End Point (Employee)->Odoo Application: [HttpR...       False   \n3  Odoo Application->db Server/Mail Server: [Pgsq...       False   \n4  Odoo Application->End Point (Employee): [HttpR...       False   \n\n                 real_activity real_activity_action real_case_id  \n0  CreatePurchaseRequest Start       Activity Start        399.0  \n1                     NoAction             NoAction          NaN  \n2                     NoAction             NoAction          NaN  \n3                     NoAction             NoAction          NaN  \n4                     NoAction             NoAction          NaN  \n\n[5 rows x 26 columns]",
      "text/html": "<div>\n<style scoped>\n    .dataframe tbody tr th:only-of-type {\n        vertical-align: middle;\n    }\n\n    .dataframe tbody tr th {\n        vertical-align: top;\n    }\n\n    .dataframe thead th {\n        text-align: right;\n    }\n</style>\n<table border=\"1\" class=\"dataframe\">\n  <thead>\n    <tr style=\"text-align: right;\">\n      <th></th>\n      <th>Unnamed: 0.2</th>\n      <th>Unnamed: 0.1</th>\n      <th>Unnamed: 0</th>\n      <th>FileName</th>\n      <th>BusinessActivity</th>\n      <th>InstanceNumber</th>\n      <th>sniff_time</th>\n      <th>frame.number</th>\n      <th>synthetic_sniff_time</th>\n      <th>synthetic_sniff_time_str</th>\n      <th>...</th>\n      <th>session_class</th>\n      <th>filter_flag</th>\n      <th>query</th>\n      <th>tables</th>\n      <th>event</th>\n      <th>event_with_roles</th>\n      <th>noise_event</th>\n      <th>real_activity</th>\n      <th>real_activity_action</th>\n      <th>real_case_id</th>\n    </tr>\n  </thead>\n  <tbody>\n    <tr>\n      <th>0</th>\n      <td>0</td>\n      <td>0</td>\n      <td>27</td>\n      <td>async_2022_08_03-0336_10_cases_10_interval.pcap</td>\n      <td>order_to_cash_interleaved_10cases</td>\n      <td>2022</td>\n      <td>2022-08-03 13:36:21.687676</td>\n      <td>96</td>\n      <td>2022-08-04 21:07:16.297676</td>\n      <td>2022-08-04 21:07:16.297676</td>\n      <td>...</td>\n      <td>http</td>\n      <td>True</td>\n      <td>NaN</td>\n      <td>NaN</td>\n      <td>HttpRequest:POST /xmlrpc/2/common HTTP/1.1\\r\\n</td>\n      <td>End Point (Employee)-&gt;Odoo Application: [HttpR...</td>\n      <td>False</td>\n      <td>CreatePurchaseRequest Start</td>\n      <td>Activity Start</td>\n      <td>399.0</td>\n    </tr>\n    <tr>\n      <th>1</th>\n      <td>1</td>\n      <td>1</td>\n      <td>82</td>\n      <td>async_2022_08_03-0336_10_cases_10_interval.pcap</td>\n      <td>order_to_cash_interleaved_10cases</td>\n      <td>2022</td>\n      <td>2022-08-03 13:36:21.958633</td>\n      <td>137</td>\n      <td>2022-08-04 21:52:26.138633</td>\n      <td>2022-08-04 21:52:26.138633</td>\n      <td>...</td>\n      <td>http</td>\n      <td>True</td>\n      <td>NaN</td>\n      <td>NaN</td>\n      <td>HttpResponse:HTTP/1.0 200 OK\\r\\n</td>\n      <td>Odoo Application-&gt;End Point (Employee): [HttpR...</td>\n      <td>False</td>\n      <td>NoAction</td>\n      <td>NoAction</td>\n      <td>NaN</td>\n    </tr>\n    <tr>\n      <th>2</th>\n      <td>2</td>\n      <td>2</td>\n      <td>86</td>\n      <td>async_2022_08_03-0336_10_cases_10_interval.pcap</td>\n      <td>order_to_cash_interleaved_10cases</td>\n      <td>2022</td>\n      <td>2022-08-03 13:36:21.960536</td>\n      <td>145</td>\n      <td>2022-08-04 21:52:45.170536</td>\n      <td>2022-08-04 21:52:45.170536</td>\n      <td>...</td>\n      <td>http</td>\n      <td>True</td>\n      <td>NaN</td>\n      <td>NaN</td>\n      <td>HttpRequest:POST /xmlrpc/2/common HTTP/1.1\\r\\n</td>\n      <td>End Point (Employee)-&gt;Odoo Application: [HttpR...</td>\n      <td>False</td>\n      <td>NoAction</td>\n      <td>NoAction</td>\n      <td>NaN</td>\n    </tr>\n    <tr>\n      <th>3</th>\n      <td>3</td>\n      <td>3</td>\n      <td>188</td>\n      <td>async_2022_08_03-0336_10_cases_10_interval.pcap</td>\n      <td>order_to_cash_interleaved_10cases</td>\n      <td>2022</td>\n      <td>2022-08-03 13:36:22.298610</td>\n      <td>209</td>\n      <td>2022-08-04 22:49:06.248610</td>\n      <td>2022-08-04 22:49:06.248610</td>\n      <td>...</td>\n      <td>pgsql</td>\n      <td>True</td>\n      <td>INSERT INTO \"res_users_log\" (\"id\", \"create_uid...</td>\n      <td>['res_users_log']</td>\n      <td>PgsqlRequest:Simple query:INSERT:['res_users_l...</td>\n      <td>Odoo Application-&gt;db Server/Mail Server: [Pgsq...</td>\n      <td>False</td>\n      <td>NoAction</td>\n      <td>NoAction</td>\n      <td>NaN</td>\n    </tr>\n    <tr>\n      <th>4</th>\n      <td>4</td>\n      <td>4</td>\n      <td>258</td>\n      <td>async_2022_08_03-0336_10_cases_10_interval.pcap</td>\n      <td>order_to_cash_interleaved_10cases</td>\n      <td>2022</td>\n      <td>2022-08-03 13:36:22.413521</td>\n      <td>232</td>\n      <td>2022-08-04 23:08:15.473521</td>\n      <td>2022-08-04 23:08:15.473521</td>\n      <td>...</td>\n      <td>http</td>\n      <td>True</td>\n      <td>NaN</td>\n      <td>NaN</td>\n      <td>HttpResponse:HTTP/1.0 200 OK\\r\\n</td>\n      <td>Odoo Application-&gt;End Point (Employee): [HttpR...</td>\n      <td>False</td>\n      <td>NoAction</td>\n      <td>NoAction</td>\n      <td>NaN</td>\n    </tr>\n  </tbody>\n</table>\n<p>5 rows × 26 columns</p>\n</div>"
     },
     "execution_count": 7,
     "metadata": {},
     "output_type": "execute_result"
    }
   ],
   "source": [
    "interleaved_data_path = os.path.join(data_folder, 'ptp_interleaved_data.csv')\n",
    "df_in = util.load_data_set(interleaved_data_path)\n",
    "df_in.head()"
   ],
   "metadata": {
    "collapsed": false
   }
  },
  {
   "cell_type": "code",
   "execution_count": 8,
   "outputs": [
    {
     "name": "stdout",
     "output_type": "stream",
     "text": [
      "<class 'pandas.core.frame.DataFrame'>\n",
      "RangeIndex: 3717 entries, 0 to 3716\n",
      "Data columns (total 26 columns):\n",
      " #   Column                    Non-Null Count  Dtype  \n",
      "---  ------                    --------------  -----  \n",
      " 0   Unnamed: 0.2              3717 non-null   int64  \n",
      " 1   Unnamed: 0.1              3717 non-null   int64  \n",
      " 2   Unnamed: 0                3717 non-null   int64  \n",
      " 3   FileName                  3717 non-null   object \n",
      " 4   BusinessActivity          3717 non-null   object \n",
      " 5   InstanceNumber            3717 non-null   int64  \n",
      " 6   sniff_time                3717 non-null   object \n",
      " 7   frame.number              3717 non-null   int64  \n",
      " 8   synthetic_sniff_time      3717 non-null   object \n",
      " 9   synthetic_sniff_time_str  3717 non-null   object \n",
      " 10  session_generalized       3717 non-null   object \n",
      " 11  HighestLayerProtocol      3717 non-null   object \n",
      " 12  MessageType_WithRole      3717 non-null   object \n",
      " 13  MessageType               3717 non-null   object \n",
      " 14  MessageAttributes         3717 non-null   object \n",
      " 15  query_type                2914 non-null   object \n",
      " 16  session_class             3717 non-null   object \n",
      " 17  filter_flag               3717 non-null   bool   \n",
      " 18  query                     2914 non-null   object \n",
      " 19  tables                    2914 non-null   object \n",
      " 20  event                     3717 non-null   object \n",
      " 21  event_with_roles          3717 non-null   object \n",
      " 22  noise_event               3717 non-null   bool   \n",
      " 23  real_activity             3717 non-null   object \n",
      " 24  real_activity_action      3717 non-null   object \n",
      " 25  real_case_id              126 non-null    float64\n",
      "dtypes: bool(2), float64(1), int64(5), object(18)\n",
      "memory usage: 704.3+ KB\n"
     ]
    }
   ],
   "source": [
    "df_in.info()"
   ],
   "metadata": {
    "collapsed": false
   }
  },
  {
   "cell_type": "markdown",
   "source": [
    "The interleaved data is the data which we will apply the develop method. We load the data to observe it. Fig \\ref{fig:interleaved_data} depict the first 5 rows from the interleaved data. and Fig \\ref{fig:interleaved_data_info} depics the info of the data. From inspecting the columns we can see that the both data set share most of the columns but there are several differences. In the interleaved data, the BusinessActivity and the InstanceNumber contains garbage data since both the activity and the case id are unknown. We can also notice we have 3 new columns, real\\_activity, real\\_activity\\_action and real\\_case\\_id. The columns real\\_activity\\_action holds the labeling of the start and end of an activity i.e. Activity End, Activity Start and NoAction. The real\\_activity columns holds the labeling of the activity type e.g CreatePurchaseRequest Start, CreateCallForTender Start, CreatePurchaseRequest End etc. Those columns will be used only for evaluation purposes"
   ],
   "metadata": {
    "collapsed": false
   }
  }
 ],
 "metadata": {
  "kernelspec": {
   "display_name": "Python 3",
   "language": "python",
   "name": "python3"
  },
  "language_info": {
   "codemirror_mode": {
    "name": "ipython",
    "version": 2
   },
   "file_extension": ".py",
   "mimetype": "text/x-python",
   "name": "python",
   "nbconvert_exporter": "python",
   "pygments_lexer": "ipython2",
   "version": "2.7.6"
  }
 },
 "nbformat": 4,
 "nbformat_minor": 0
}
