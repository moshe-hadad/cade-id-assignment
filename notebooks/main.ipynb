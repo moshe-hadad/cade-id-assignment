{
 "cells": [
  {
   "cell_type": "markdown",
   "source": [
    "# Case ID Assignment Project"
   ],
   "metadata": {
    "collapsed": false
   }
  },
  {
   "cell_type": "markdown",
   "source": [
    "### Imports\n"
   ],
   "metadata": {
    "collapsed": false
   }
  },
  {
   "cell_type": "code",
   "execution_count": 1,
   "outputs": [],
   "source": [
    "import numpy as np\n",
    "import pandas as pd\n",
    "from sklearn.pipeline import Pipeline\n",
    "\n",
    "import case_id_assignment.feature_engineering as features_eng\n",
    "import case_id_assignment.feature_selection as selector\n",
    "import case_id_assignment.clustering as clustering\n",
    "import case_id_assignment.utilities as util\n",
    "import case_id_assignment.imputing as imputer\n",
    "import case_id_assignment.sqlutil as sql\n",
    "import case_id_assignment.assignment as case_id_assigner\n",
    "import case_id_assignment.evaluation as evaluation\n",
    "import case_id_assignment.main as main"
   ],
   "metadata": {
    "collapsed": false
   }
  },
  {
   "cell_type": "markdown",
   "source": [
    "## 1) Loading the data"
   ],
   "metadata": {
    "collapsed": false
   }
  },
  {
   "cell_type": "code",
   "execution_count": 2,
   "outputs": [],
   "source": [
    "data_folder = '../data'\n",
    "isolated_data_set = util.load_data_set(file_path=f'{data_folder}/ptp_isolated_data.csv')\n",
    "interleaved_data_set = util.load_data_set(file_path=f'{data_folder}/ptp_interleaved_data.csv')"
   ],
   "metadata": {
    "collapsed": false
   }
  },
  {
   "cell_type": "markdown",
   "source": [
    "After loading the data we can observe its structure. We can notice the difference between the isolated and the interleaved data. In the interleaved data, the  BusinessActivity and InstanceNumber\n",
    "contains garbage data while in the isolated data they contain the actual BusinessActivity and InstanceNumber"
   ],
   "metadata": {
    "collapsed": false
   }
  },
  {
   "cell_type": "code",
   "execution_count": 3,
   "outputs": [
    {
     "data": {
      "text/plain": "                       FileName       BusinessActivity  InstanceNumber  \\\n0  CreatePurchaseRequest_1.pcap  CreatePurchaseRequest               1   \n1  CreatePurchaseRequest_1.pcap  CreatePurchaseRequest               1   \n2  CreatePurchaseRequest_1.pcap  CreatePurchaseRequest               1   \n3  CreatePurchaseRequest_1.pcap  CreatePurchaseRequest               1   \n4  CreatePurchaseRequest_1.pcap  CreatePurchaseRequest               1   \n\n                   sniff_time  frame.number        synthetic_sniff_time  \\\n0  2020-12-21 08:08:44.637118           119  2020-12-22 11:39:44.237118   \n1  2020-12-21 08:08:44.688344           153  2020-12-22 11:48:16.548344   \n2  2020-12-21 08:08:44.690577           161  2020-12-22 11:48:38.880577   \n3  2020-12-21 08:08:44.985813           224  2020-12-22 12:37:51.535813   \n4  2020-12-21 08:08:44.994598           245  2020-12-22 12:39:19.394598   \n\n     synthetic_sniff_time_str            session_generalized  \\\n0  2020-12-22 11:39:44.237118  192.168.11.2-192.168.11.9 (1)   \n1  2020-12-22 11:48:16.548344  192.168.11.2-192.168.11.9 (1)   \n2  2020-12-22 11:48:38.880577  192.168.11.2-192.168.11.9 (2)   \n3  2020-12-22 12:37:51.535813  192.168.11.1-192.168.11.2 (7)   \n4  2020-12-22 12:39:19.394598  192.168.11.2-192.168.11.9 (2)   \n\n  HighestLayerProtocol                               MessageType_WithRole  \\\n0                 http  End Point (Employee)->Odoo Application:[HttpRe...   \n1                 http  Odoo Application->End Point (Employee):[HttpRe...   \n2                 http  End Point (Employee)->Odoo Application:[HttpRe...   \n3                pgsql  Odoo Application->db Server/Mail Server:[Pgsql...   \n4                 http  Odoo Application->End Point (Employee):[HttpRe...   \n\n                                      MessageType  \\\n0  HttpRequest:POST /xmlrpc/2/common HTTP/1.1\\r\\n   \n1                HttpResponse:HTTP/1.0 200 OK\\r\\n   \n2  HttpRequest:POST /xmlrpc/2/common HTTP/1.1\\r\\n   \n3                       PgsqlRequest:Simple query   \n4                HttpResponse:HTTP/1.0 200 OK\\r\\n   \n\n                                   MessageAttributes query_type session_class  \\\n0  {'': 'POST /xmlrpc/2/common HTTP/1.1\\\\r\\\\n', '...        NaN          http   \n1  {'': 'HTTP/1.0 200 OK\\\\r\\\\n', '_ws.expert': 'E...        NaN          http   \n2  {'': 'POST /xmlrpc/2/common HTTP/1.1\\\\r\\\\n', '...        NaN          http   \n3  {'pgsql.type': 'Simple query', 'pgsql.length':...     INSERT         pgsql   \n4  {'': 'HTTP/1.0 200 OK\\\\r\\\\n', '_ws.expert': 'E...        NaN          http   \n\n   filter_flag                                              query  \\\n0         True                                                NaN   \n1         True                                                NaN   \n2         True                                                NaN   \n3         True  INSERT INTO \"res_users_log\" (\"id\", \"create_uid...   \n4         True                                                NaN   \n\n              tables                                              event  \\\n0                NaN     HttpRequest:POST /xmlrpc/2/common HTTP/1.1\\r\\n   \n1                NaN                   HttpResponse:HTTP/1.0 200 OK\\r\\n   \n2                NaN     HttpRequest:POST /xmlrpc/2/common HTTP/1.1\\r\\n   \n3  ['res_users_log']  PgsqlRequest:Simple query:INSERT:['res_users_l...   \n4                NaN                   HttpResponse:HTTP/1.0 200 OK\\r\\n   \n\n                                    event_with_roles  noise_event  \n0  End Point (Employee)->Odoo Application: [HttpR...        False  \n1  Odoo Application->End Point (Employee): [HttpR...        False  \n2  End Point (Employee)->Odoo Application: [HttpR...        False  \n3  Odoo Application->db Server/Mail Server: [Pgsq...        False  \n4  Odoo Application->End Point (Employee): [HttpR...        False  ",
      "text/html": "<div>\n<style scoped>\n    .dataframe tbody tr th:only-of-type {\n        vertical-align: middle;\n    }\n\n    .dataframe tbody tr th {\n        vertical-align: top;\n    }\n\n    .dataframe thead th {\n        text-align: right;\n    }\n</style>\n<table border=\"1\" class=\"dataframe\">\n  <thead>\n    <tr style=\"text-align: right;\">\n      <th></th>\n      <th>FileName</th>\n      <th>BusinessActivity</th>\n      <th>InstanceNumber</th>\n      <th>sniff_time</th>\n      <th>frame.number</th>\n      <th>synthetic_sniff_time</th>\n      <th>synthetic_sniff_time_str</th>\n      <th>session_generalized</th>\n      <th>HighestLayerProtocol</th>\n      <th>MessageType_WithRole</th>\n      <th>MessageType</th>\n      <th>MessageAttributes</th>\n      <th>query_type</th>\n      <th>session_class</th>\n      <th>filter_flag</th>\n      <th>query</th>\n      <th>tables</th>\n      <th>event</th>\n      <th>event_with_roles</th>\n      <th>noise_event</th>\n    </tr>\n  </thead>\n  <tbody>\n    <tr>\n      <th>0</th>\n      <td>CreatePurchaseRequest_1.pcap</td>\n      <td>CreatePurchaseRequest</td>\n      <td>1</td>\n      <td>2020-12-21 08:08:44.637118</td>\n      <td>119</td>\n      <td>2020-12-22 11:39:44.237118</td>\n      <td>2020-12-22 11:39:44.237118</td>\n      <td>192.168.11.2-192.168.11.9 (1)</td>\n      <td>http</td>\n      <td>End Point (Employee)-&gt;Odoo Application:[HttpRe...</td>\n      <td>HttpRequest:POST /xmlrpc/2/common HTTP/1.1\\r\\n</td>\n      <td>{'': 'POST /xmlrpc/2/common HTTP/1.1\\\\r\\\\n', '...</td>\n      <td>NaN</td>\n      <td>http</td>\n      <td>True</td>\n      <td>NaN</td>\n      <td>NaN</td>\n      <td>HttpRequest:POST /xmlrpc/2/common HTTP/1.1\\r\\n</td>\n      <td>End Point (Employee)-&gt;Odoo Application: [HttpR...</td>\n      <td>False</td>\n    </tr>\n    <tr>\n      <th>1</th>\n      <td>CreatePurchaseRequest_1.pcap</td>\n      <td>CreatePurchaseRequest</td>\n      <td>1</td>\n      <td>2020-12-21 08:08:44.688344</td>\n      <td>153</td>\n      <td>2020-12-22 11:48:16.548344</td>\n      <td>2020-12-22 11:48:16.548344</td>\n      <td>192.168.11.2-192.168.11.9 (1)</td>\n      <td>http</td>\n      <td>Odoo Application-&gt;End Point (Employee):[HttpRe...</td>\n      <td>HttpResponse:HTTP/1.0 200 OK\\r\\n</td>\n      <td>{'': 'HTTP/1.0 200 OK\\\\r\\\\n', '_ws.expert': 'E...</td>\n      <td>NaN</td>\n      <td>http</td>\n      <td>True</td>\n      <td>NaN</td>\n      <td>NaN</td>\n      <td>HttpResponse:HTTP/1.0 200 OK\\r\\n</td>\n      <td>Odoo Application-&gt;End Point (Employee): [HttpR...</td>\n      <td>False</td>\n    </tr>\n    <tr>\n      <th>2</th>\n      <td>CreatePurchaseRequest_1.pcap</td>\n      <td>CreatePurchaseRequest</td>\n      <td>1</td>\n      <td>2020-12-21 08:08:44.690577</td>\n      <td>161</td>\n      <td>2020-12-22 11:48:38.880577</td>\n      <td>2020-12-22 11:48:38.880577</td>\n      <td>192.168.11.2-192.168.11.9 (2)</td>\n      <td>http</td>\n      <td>End Point (Employee)-&gt;Odoo Application:[HttpRe...</td>\n      <td>HttpRequest:POST /xmlrpc/2/common HTTP/1.1\\r\\n</td>\n      <td>{'': 'POST /xmlrpc/2/common HTTP/1.1\\\\r\\\\n', '...</td>\n      <td>NaN</td>\n      <td>http</td>\n      <td>True</td>\n      <td>NaN</td>\n      <td>NaN</td>\n      <td>HttpRequest:POST /xmlrpc/2/common HTTP/1.1\\r\\n</td>\n      <td>End Point (Employee)-&gt;Odoo Application: [HttpR...</td>\n      <td>False</td>\n    </tr>\n    <tr>\n      <th>3</th>\n      <td>CreatePurchaseRequest_1.pcap</td>\n      <td>CreatePurchaseRequest</td>\n      <td>1</td>\n      <td>2020-12-21 08:08:44.985813</td>\n      <td>224</td>\n      <td>2020-12-22 12:37:51.535813</td>\n      <td>2020-12-22 12:37:51.535813</td>\n      <td>192.168.11.1-192.168.11.2 (7)</td>\n      <td>pgsql</td>\n      <td>Odoo Application-&gt;db Server/Mail Server:[Pgsql...</td>\n      <td>PgsqlRequest:Simple query</td>\n      <td>{'pgsql.type': 'Simple query', 'pgsql.length':...</td>\n      <td>INSERT</td>\n      <td>pgsql</td>\n      <td>True</td>\n      <td>INSERT INTO \"res_users_log\" (\"id\", \"create_uid...</td>\n      <td>['res_users_log']</td>\n      <td>PgsqlRequest:Simple query:INSERT:['res_users_l...</td>\n      <td>Odoo Application-&gt;db Server/Mail Server: [Pgsq...</td>\n      <td>False</td>\n    </tr>\n    <tr>\n      <th>4</th>\n      <td>CreatePurchaseRequest_1.pcap</td>\n      <td>CreatePurchaseRequest</td>\n      <td>1</td>\n      <td>2020-12-21 08:08:44.994598</td>\n      <td>245</td>\n      <td>2020-12-22 12:39:19.394598</td>\n      <td>2020-12-22 12:39:19.394598</td>\n      <td>192.168.11.2-192.168.11.9 (2)</td>\n      <td>http</td>\n      <td>Odoo Application-&gt;End Point (Employee):[HttpRe...</td>\n      <td>HttpResponse:HTTP/1.0 200 OK\\r\\n</td>\n      <td>{'': 'HTTP/1.0 200 OK\\\\r\\\\n', '_ws.expert': 'E...</td>\n      <td>NaN</td>\n      <td>http</td>\n      <td>True</td>\n      <td>NaN</td>\n      <td>NaN</td>\n      <td>HttpResponse:HTTP/1.0 200 OK\\r\\n</td>\n      <td>Odoo Application-&gt;End Point (Employee): [HttpR...</td>\n      <td>False</td>\n    </tr>\n  </tbody>\n</table>\n</div>"
     },
     "execution_count": 3,
     "metadata": {},
     "output_type": "execute_result"
    }
   ],
   "source": [
    "isolated_data_set.head()"
   ],
   "metadata": {
    "collapsed": false
   }
  },
  {
   "cell_type": "code",
   "execution_count": 4,
   "outputs": [
    {
     "data": {
      "text/plain": "                                          FileName  \\\n0  async_2022_08_03-0336_10_cases_10_interval.pcap   \n1  async_2022_08_03-0336_10_cases_10_interval.pcap   \n2  async_2022_08_03-0336_10_cases_10_interval.pcap   \n3  async_2022_08_03-0336_10_cases_10_interval.pcap   \n4  async_2022_08_03-0336_10_cases_10_interval.pcap   \n\n                    BusinessActivity  InstanceNumber  \\\n0  order_to_cash_interleaved_10cases            2022   \n1  order_to_cash_interleaved_10cases            2022   \n2  order_to_cash_interleaved_10cases            2022   \n3  order_to_cash_interleaved_10cases            2022   \n4  order_to_cash_interleaved_10cases            2022   \n\n                   sniff_time  frame.number        synthetic_sniff_time  \\\n0  2022-08-03 13:36:21.687676            96  2022-08-04 21:07:16.297676   \n1  2022-08-03 13:36:21.958633           137  2022-08-04 21:52:26.138633   \n2  2022-08-03 13:36:21.960536           145  2022-08-04 21:52:45.170536   \n3  2022-08-03 13:36:22.298610           209  2022-08-04 22:49:06.248610   \n4  2022-08-03 13:36:22.413521           232  2022-08-04 23:08:15.473521   \n\n     synthetic_sniff_time_str             session_generalized  \\\n0  2022-08-04 21:07:16.297676  192.168.11.2-192.168.11.10 (1)   \n1  2022-08-04 21:52:26.138633  192.168.11.2-192.168.11.10 (1)   \n2  2022-08-04 21:52:45.170536  192.168.11.2-192.168.11.10 (2)   \n3  2022-08-04 22:49:06.248610   192.168.11.1-192.168.11.2 (7)   \n4  2022-08-04 23:08:15.473521  192.168.11.2-192.168.11.10 (2)   \n\n  HighestLayerProtocol                               MessageType_WithRole  \\\n0                 http  End Point (Employee)->Odoo Application:[HttpRe...   \n1                 http  Odoo Application->End Point (Employee):[HttpRe...   \n2                 http  End Point (Employee)->Odoo Application:[HttpRe...   \n3                pgsql  Odoo Application->db Server/Mail Server:[Pgsql...   \n4                 http  Odoo Application->End Point (Employee):[HttpRe...   \n\n   ...                                              event  \\\n0  ...     HttpRequest:POST /xmlrpc/2/common HTTP/1.1\\r\\n   \n1  ...                   HttpResponse:HTTP/1.0 200 OK\\r\\n   \n2  ...     HttpRequest:POST /xmlrpc/2/common HTTP/1.1\\r\\n   \n3  ...  PgsqlRequest:Simple query:INSERT:['res_users_l...   \n4  ...                   HttpResponse:HTTP/1.0 200 OK\\r\\n   \n\n                                    event_with_roles noise_event  \\\n0  End Point (Employee)->Odoo Application: [HttpR...       False   \n1  Odoo Application->End Point (Employee): [HttpR...       False   \n2  End Point (Employee)->Odoo Application: [HttpR...       False   \n3  Odoo Application->db Server/Mail Server: [Pgsq...       False   \n4  Odoo Application->End Point (Employee): [HttpR...       False   \n\n                 real_activity  real_activity_action real_case_id  \\\n0  CreatePurchaseRequest Start        Activity Start        399.0   \n1                     NoAction              NoAction          NaN   \n2                     NoAction              NoAction          NaN   \n3                     NoAction              NoAction          NaN   \n4                     NoAction              NoAction          NaN   \n\n                  activities frame_number stream_index  \\\n0  ['CreatePurchaseRequest']           96            2   \n1  ['CreatePurchaseRequest']          137            2   \n2  ['CreatePurchaseRequest']          145            7   \n3  ['CreatePurchaseRequest']          209           10   \n4  ['CreatePurchaseRequest']          232            7   \n\n                activities_with_bp  \n0  [(-1, \"CreatePurchaseRequest\")]  \n1  [(-1, \"CreatePurchaseRequest\")]  \n2  [(-1, \"CreatePurchaseRequest\")]  \n3  [(-1, \"CreatePurchaseRequest\")]  \n4  [(-1, \"CreatePurchaseRequest\")]  \n\n[5 rows x 27 columns]",
      "text/html": "<div>\n<style scoped>\n    .dataframe tbody tr th:only-of-type {\n        vertical-align: middle;\n    }\n\n    .dataframe tbody tr th {\n        vertical-align: top;\n    }\n\n    .dataframe thead th {\n        text-align: right;\n    }\n</style>\n<table border=\"1\" class=\"dataframe\">\n  <thead>\n    <tr style=\"text-align: right;\">\n      <th></th>\n      <th>FileName</th>\n      <th>BusinessActivity</th>\n      <th>InstanceNumber</th>\n      <th>sniff_time</th>\n      <th>frame.number</th>\n      <th>synthetic_sniff_time</th>\n      <th>synthetic_sniff_time_str</th>\n      <th>session_generalized</th>\n      <th>HighestLayerProtocol</th>\n      <th>MessageType_WithRole</th>\n      <th>...</th>\n      <th>event</th>\n      <th>event_with_roles</th>\n      <th>noise_event</th>\n      <th>real_activity</th>\n      <th>real_activity_action</th>\n      <th>real_case_id</th>\n      <th>activities</th>\n      <th>frame_number</th>\n      <th>stream_index</th>\n      <th>activities_with_bp</th>\n    </tr>\n  </thead>\n  <tbody>\n    <tr>\n      <th>0</th>\n      <td>async_2022_08_03-0336_10_cases_10_interval.pcap</td>\n      <td>order_to_cash_interleaved_10cases</td>\n      <td>2022</td>\n      <td>2022-08-03 13:36:21.687676</td>\n      <td>96</td>\n      <td>2022-08-04 21:07:16.297676</td>\n      <td>2022-08-04 21:07:16.297676</td>\n      <td>192.168.11.2-192.168.11.10 (1)</td>\n      <td>http</td>\n      <td>End Point (Employee)-&gt;Odoo Application:[HttpRe...</td>\n      <td>...</td>\n      <td>HttpRequest:POST /xmlrpc/2/common HTTP/1.1\\r\\n</td>\n      <td>End Point (Employee)-&gt;Odoo Application: [HttpR...</td>\n      <td>False</td>\n      <td>CreatePurchaseRequest Start</td>\n      <td>Activity Start</td>\n      <td>399.0</td>\n      <td>['CreatePurchaseRequest']</td>\n      <td>96</td>\n      <td>2</td>\n      <td>[(-1, \"CreatePurchaseRequest\")]</td>\n    </tr>\n    <tr>\n      <th>1</th>\n      <td>async_2022_08_03-0336_10_cases_10_interval.pcap</td>\n      <td>order_to_cash_interleaved_10cases</td>\n      <td>2022</td>\n      <td>2022-08-03 13:36:21.958633</td>\n      <td>137</td>\n      <td>2022-08-04 21:52:26.138633</td>\n      <td>2022-08-04 21:52:26.138633</td>\n      <td>192.168.11.2-192.168.11.10 (1)</td>\n      <td>http</td>\n      <td>Odoo Application-&gt;End Point (Employee):[HttpRe...</td>\n      <td>...</td>\n      <td>HttpResponse:HTTP/1.0 200 OK\\r\\n</td>\n      <td>Odoo Application-&gt;End Point (Employee): [HttpR...</td>\n      <td>False</td>\n      <td>NoAction</td>\n      <td>NoAction</td>\n      <td>NaN</td>\n      <td>['CreatePurchaseRequest']</td>\n      <td>137</td>\n      <td>2</td>\n      <td>[(-1, \"CreatePurchaseRequest\")]</td>\n    </tr>\n    <tr>\n      <th>2</th>\n      <td>async_2022_08_03-0336_10_cases_10_interval.pcap</td>\n      <td>order_to_cash_interleaved_10cases</td>\n      <td>2022</td>\n      <td>2022-08-03 13:36:21.960536</td>\n      <td>145</td>\n      <td>2022-08-04 21:52:45.170536</td>\n      <td>2022-08-04 21:52:45.170536</td>\n      <td>192.168.11.2-192.168.11.10 (2)</td>\n      <td>http</td>\n      <td>End Point (Employee)-&gt;Odoo Application:[HttpRe...</td>\n      <td>...</td>\n      <td>HttpRequest:POST /xmlrpc/2/common HTTP/1.1\\r\\n</td>\n      <td>End Point (Employee)-&gt;Odoo Application: [HttpR...</td>\n      <td>False</td>\n      <td>NoAction</td>\n      <td>NoAction</td>\n      <td>NaN</td>\n      <td>['CreatePurchaseRequest']</td>\n      <td>145</td>\n      <td>7</td>\n      <td>[(-1, \"CreatePurchaseRequest\")]</td>\n    </tr>\n    <tr>\n      <th>3</th>\n      <td>async_2022_08_03-0336_10_cases_10_interval.pcap</td>\n      <td>order_to_cash_interleaved_10cases</td>\n      <td>2022</td>\n      <td>2022-08-03 13:36:22.298610</td>\n      <td>209</td>\n      <td>2022-08-04 22:49:06.248610</td>\n      <td>2022-08-04 22:49:06.248610</td>\n      <td>192.168.11.1-192.168.11.2 (7)</td>\n      <td>pgsql</td>\n      <td>Odoo Application-&gt;db Server/Mail Server:[Pgsql...</td>\n      <td>...</td>\n      <td>PgsqlRequest:Simple query:INSERT:['res_users_l...</td>\n      <td>Odoo Application-&gt;db Server/Mail Server: [Pgsq...</td>\n      <td>False</td>\n      <td>NoAction</td>\n      <td>NoAction</td>\n      <td>NaN</td>\n      <td>['CreatePurchaseRequest']</td>\n      <td>209</td>\n      <td>10</td>\n      <td>[(-1, \"CreatePurchaseRequest\")]</td>\n    </tr>\n    <tr>\n      <th>4</th>\n      <td>async_2022_08_03-0336_10_cases_10_interval.pcap</td>\n      <td>order_to_cash_interleaved_10cases</td>\n      <td>2022</td>\n      <td>2022-08-03 13:36:22.413521</td>\n      <td>232</td>\n      <td>2022-08-04 23:08:15.473521</td>\n      <td>2022-08-04 23:08:15.473521</td>\n      <td>192.168.11.2-192.168.11.10 (2)</td>\n      <td>http</td>\n      <td>Odoo Application-&gt;End Point (Employee):[HttpRe...</td>\n      <td>...</td>\n      <td>HttpResponse:HTTP/1.0 200 OK\\r\\n</td>\n      <td>Odoo Application-&gt;End Point (Employee): [HttpR...</td>\n      <td>False</td>\n      <td>NoAction</td>\n      <td>NoAction</td>\n      <td>NaN</td>\n      <td>['CreatePurchaseRequest']</td>\n      <td>232</td>\n      <td>7</td>\n      <td>[(-1, \"CreatePurchaseRequest\")]</td>\n    </tr>\n  </tbody>\n</table>\n<p>5 rows × 27 columns</p>\n</div>"
     },
     "execution_count": 4,
     "metadata": {},
     "output_type": "execute_result"
    }
   ],
   "source": [
    "interleaved_data_set.head()"
   ],
   "metadata": {
    "collapsed": false
   }
  },
  {
   "cell_type": "markdown",
   "source": [
    "We can observe the structure of the data sets. Most columns are objects (str). Before pre-processing and feature engineering we have 20 and 27 columns for isolated and interleaved data set respectively.\n",
    "In the data exploration step we noticed no column is correlated with the InstanceNumber column. So we turn to pre-processing and feature engineering step."
   ],
   "metadata": {
    "collapsed": false
   }
  },
  {
   "cell_type": "code",
   "execution_count": 5,
   "outputs": [
    {
     "name": "stdout",
     "output_type": "stream",
     "text": [
      "<class 'pandas.core.frame.DataFrame'>\n",
      "Index: 26006 entries, 0 to 26005\n",
      "Data columns (total 20 columns):\n",
      " #   Column                    Non-Null Count  Dtype \n",
      "---  ------                    --------------  ----- \n",
      " 0   FileName                  26006 non-null  object\n",
      " 1   BusinessActivity          26006 non-null  object\n",
      " 2   InstanceNumber            26006 non-null  int64 \n",
      " 3   sniff_time                26006 non-null  object\n",
      " 4   frame.number              26006 non-null  int64 \n",
      " 5   synthetic_sniff_time      26006 non-null  object\n",
      " 6   synthetic_sniff_time_str  26006 non-null  object\n",
      " 7   session_generalized       26006 non-null  object\n",
      " 8   HighestLayerProtocol      26006 non-null  object\n",
      " 9   MessageType_WithRole      26006 non-null  object\n",
      " 10  MessageType               26006 non-null  object\n",
      " 11  MessageAttributes         26006 non-null  object\n",
      " 12  query_type                20503 non-null  object\n",
      " 13  session_class             26006 non-null  object\n",
      " 14  filter_flag               26006 non-null  bool  \n",
      " 15  query                     20503 non-null  object\n",
      " 16  tables                    20503 non-null  object\n",
      " 17  event                     26006 non-null  object\n",
      " 18  event_with_roles          26006 non-null  object\n",
      " 19  noise_event               26006 non-null  bool  \n",
      "dtypes: bool(2), int64(2), object(16)\n",
      "memory usage: 3.8+ MB\n"
     ]
    }
   ],
   "source": [
    "isolated_data_set.info()"
   ],
   "metadata": {
    "collapsed": false
   }
  },
  {
   "cell_type": "code",
   "execution_count": 6,
   "outputs": [
    {
     "name": "stdout",
     "output_type": "stream",
     "text": [
      "<class 'pandas.core.frame.DataFrame'>\n",
      "Index: 3717 entries, 0 to 3716\n",
      "Data columns (total 27 columns):\n",
      " #   Column                    Non-Null Count  Dtype  \n",
      "---  ------                    --------------  -----  \n",
      " 0   FileName                  3717 non-null   object \n",
      " 1   BusinessActivity          3717 non-null   object \n",
      " 2   InstanceNumber            3717 non-null   int64  \n",
      " 3   sniff_time                3717 non-null   object \n",
      " 4   frame.number              3717 non-null   int64  \n",
      " 5   synthetic_sniff_time      3717 non-null   object \n",
      " 6   synthetic_sniff_time_str  3717 non-null   object \n",
      " 7   session_generalized       3717 non-null   object \n",
      " 8   HighestLayerProtocol      3717 non-null   object \n",
      " 9   MessageType_WithRole      3717 non-null   object \n",
      " 10  MessageType               3717 non-null   object \n",
      " 11  MessageAttributes         3717 non-null   object \n",
      " 12  query_type                2914 non-null   object \n",
      " 13  session_class             3717 non-null   object \n",
      " 14  filter_flag               3717 non-null   bool   \n",
      " 15  query                     2914 non-null   object \n",
      " 16  tables                    2914 non-null   object \n",
      " 17  event                     3717 non-null   object \n",
      " 18  event_with_roles          3717 non-null   object \n",
      " 19  noise_event               3717 non-null   bool   \n",
      " 20  real_activity             3717 non-null   object \n",
      " 21  real_activity_action      3717 non-null   object \n",
      " 22  real_case_id              126 non-null    float64\n",
      " 23  activities                3717 non-null   object \n",
      " 24  frame_number              3717 non-null   int64  \n",
      " 25  stream_index              3717 non-null   int64  \n",
      " 26  activities_with_bp        3717 non-null   object \n",
      "dtypes: bool(2), float64(1), int64(4), object(20)\n",
      "memory usage: 762.3+ KB\n"
     ]
    }
   ],
   "source": [
    "interleaved_data_set.info()"
   ],
   "metadata": {
    "collapsed": false
   }
  },
  {
   "cell_type": "markdown",
   "source": [
    "## 2) Pre-processing\n",
    "In this step we are going to pre-process the data. The main step here is creating features from the sql queries in the query, MessageAttributes and tables columns"
   ],
   "metadata": {
    "collapsed": false
   }
  },
  {
   "cell_type": "code",
   "execution_count": 7,
   "outputs": [
    {
     "name": "stdout",
     "output_type": "stream",
     "text": [
      "Process isolated data set - parse SQL queries to features\n"
     ]
    },
    {
     "data": {
      "text/plain": "Convert SQL Queries into additional columns:   0%|          | 0/26006 [00:00<?, ?it/s]",
      "application/vnd.jupyter.widget-view+json": {
       "version_major": 2,
       "version_minor": 0,
       "model_id": "d2830be8932b4d32ac1d8a42ca71bcf0"
      }
     },
     "metadata": {},
     "output_type": "display_data"
    },
    {
     "data": {
      "text/plain": "  0%|          | 0/26006 [00:00<?, ?it/s]",
      "application/vnd.jupyter.widget-view+json": {
       "version_major": 2,
       "version_minor": 0,
       "model_id": "5a33fa665e2a46d68c926ef04aa212f3"
      }
     },
     "metadata": {},
     "output_type": "display_data"
    },
    {
     "name": "stdout",
     "output_type": "stream",
     "text": [
      "finished processing the data, create data frames\n",
      "merge data frames to one global data frame\n",
      "Process interleaved data set - parse SQL queries to features\n"
     ]
    },
    {
     "data": {
      "text/plain": "Convert SQL Queries into additional columns:   0%|          | 0/3717 [00:00<?, ?it/s]",
      "application/vnd.jupyter.widget-view+json": {
       "version_major": 2,
       "version_minor": 0,
       "model_id": "5a29aa386e41404cbd4d313366ec1b42"
      }
     },
     "metadata": {},
     "output_type": "display_data"
    },
    {
     "data": {
      "text/plain": "  0%|          | 0/3717 [00:00<?, ?it/s]",
      "application/vnd.jupyter.widget-view+json": {
       "version_major": 2,
       "version_minor": 0,
       "model_id": "6727920c0e5840cea007015eb7c99be2"
      }
     },
     "metadata": {},
     "output_type": "display_data"
    },
    {
     "name": "stdout",
     "output_type": "stream",
     "text": [
      "finished processing the data, create data frames\n",
      "merge data frames to one global data frame\n",
      "Process isolated data set - HTTP attributes to features\n",
      "Process interleaved data set - HTTP attributes to features\n"
     ]
    }
   ],
   "source": [
    "isolated_df_processed, interleaved_df_processed = main.pre_processing_data(isolated_data_set, interleaved_data_set,\n",
    "                                                                           save_results=False,\n",
    "                                                                           pre_process=True)"
   ],
   "metadata": {
    "collapsed": false
   }
  },
  {
   "cell_type": "markdown",
   "source": [
    "After running the pre-processing step we can observe the new features\n",
    "We can see additional features such as warehouse_id, res_model, sequence, sale_order_id etc. were created.\n",
    "Most of the data contain Nan so the data set is a sparse data set.\n",
    "We can see from the info() we now have 239 columns."
   ],
   "metadata": {
    "collapsed": false
   }
  },
  {
   "cell_type": "code",
   "execution_count": 8,
   "outputs": [
    {
     "data": {
      "text/plain": "                       FileName       BusinessActivity  InstanceNumber  \\\n0  CreatePurchaseRequest_1.pcap  CreatePurchaseRequest               1   \n1  CreatePurchaseRequest_1.pcap  CreatePurchaseRequest               1   \n2  CreatePurchaseRequest_1.pcap  CreatePurchaseRequest               1   \n3  CreatePurchaseRequest_1.pcap  CreatePurchaseRequest               1   \n4  CreatePurchaseRequest_1.pcap  CreatePurchaseRequest               1   \n\n                   sniff_time  frame.number        synthetic_sniff_time  \\\n0  2020-12-21 08:08:44.637118           119  2020-12-22 11:39:44.237118   \n1  2020-12-21 08:08:44.688344           153  2020-12-22 11:48:16.548344   \n2  2020-12-21 08:08:44.690577           161  2020-12-22 11:48:38.880577   \n3  2020-12-21 08:08:44.985813           224  2020-12-22 12:37:51.535813   \n4  2020-12-21 08:08:44.994598           245  2020-12-22 12:39:19.394598   \n\n     synthetic_sniff_time_str            session_generalized  \\\n0  2020-12-22 11:39:44.237118  192.168.11.2-192.168.11.9 (1)   \n1  2020-12-22 11:48:16.548344  192.168.11.2-192.168.11.9 (1)   \n2  2020-12-22 11:48:38.880577  192.168.11.2-192.168.11.9 (2)   \n3  2020-12-22 12:37:51.535813  192.168.11.1-192.168.11.2 (7)   \n4  2020-12-22 12:39:19.394598  192.168.11.2-192.168.11.9 (2)   \n\n  HighestLayerProtocol                               MessageType_WithRole  \\\n0                 http  End Point (Employee)->Odoo Application:[HttpRe...   \n1                 http  Odoo Application->End Point (Employee):[HttpRe...   \n2                 http  End Point (Employee)->Odoo Application:[HttpRe...   \n3                pgsql  Odoo Application->db Server/Mail Server:[Pgsql...   \n4                 http  Odoo Application->End Point (Employee):[HttpRe...   \n\n   ... multi payment_date payment_difference_handling payment_method_id  \\\n0  ...   NaN          NaN                         NaN               NaN   \n1  ...   NaN          NaN                         NaN               NaN   \n2  ...   NaN          NaN                         NaN               NaN   \n3  ...   NaN          NaN                         NaN               NaN   \n4  ...   NaN          NaN                         NaN               NaN   \n\n   payment_type writeoff_label payment_term_id request_method_call  \\\n0           NaN            NaN             NaN             version   \n1           NaN            NaN             NaN      server_version   \n2           NaN            NaN             NaN        authenticate   \n3           NaN            NaN             NaN                 NaN   \n4           NaN            NaN             NaN                   2   \n\n  starting_frame_number                                          file_data  \n0                   NaN                                          [version]  \n1                   119  [server_version, 12.0-20190820, server_version...  \n2                   NaN  [authenticate, odoo01, user.suername@company.c...  \n3                  None                                                 []  \n4                   161                                                [2]  \n\n[5 rows x 239 columns]",
      "text/html": "<div>\n<style scoped>\n    .dataframe tbody tr th:only-of-type {\n        vertical-align: middle;\n    }\n\n    .dataframe tbody tr th {\n        vertical-align: top;\n    }\n\n    .dataframe thead th {\n        text-align: right;\n    }\n</style>\n<table border=\"1\" class=\"dataframe\">\n  <thead>\n    <tr style=\"text-align: right;\">\n      <th></th>\n      <th>FileName</th>\n      <th>BusinessActivity</th>\n      <th>InstanceNumber</th>\n      <th>sniff_time</th>\n      <th>frame.number</th>\n      <th>synthetic_sniff_time</th>\n      <th>synthetic_sniff_time_str</th>\n      <th>session_generalized</th>\n      <th>HighestLayerProtocol</th>\n      <th>MessageType_WithRole</th>\n      <th>...</th>\n      <th>multi</th>\n      <th>payment_date</th>\n      <th>payment_difference_handling</th>\n      <th>payment_method_id</th>\n      <th>payment_type</th>\n      <th>writeoff_label</th>\n      <th>payment_term_id</th>\n      <th>request_method_call</th>\n      <th>starting_frame_number</th>\n      <th>file_data</th>\n    </tr>\n  </thead>\n  <tbody>\n    <tr>\n      <th>0</th>\n      <td>CreatePurchaseRequest_1.pcap</td>\n      <td>CreatePurchaseRequest</td>\n      <td>1</td>\n      <td>2020-12-21 08:08:44.637118</td>\n      <td>119</td>\n      <td>2020-12-22 11:39:44.237118</td>\n      <td>2020-12-22 11:39:44.237118</td>\n      <td>192.168.11.2-192.168.11.9 (1)</td>\n      <td>http</td>\n      <td>End Point (Employee)-&gt;Odoo Application:[HttpRe...</td>\n      <td>...</td>\n      <td>NaN</td>\n      <td>NaN</td>\n      <td>NaN</td>\n      <td>NaN</td>\n      <td>NaN</td>\n      <td>NaN</td>\n      <td>NaN</td>\n      <td>version</td>\n      <td>NaN</td>\n      <td>[version]</td>\n    </tr>\n    <tr>\n      <th>1</th>\n      <td>CreatePurchaseRequest_1.pcap</td>\n      <td>CreatePurchaseRequest</td>\n      <td>1</td>\n      <td>2020-12-21 08:08:44.688344</td>\n      <td>153</td>\n      <td>2020-12-22 11:48:16.548344</td>\n      <td>2020-12-22 11:48:16.548344</td>\n      <td>192.168.11.2-192.168.11.9 (1)</td>\n      <td>http</td>\n      <td>Odoo Application-&gt;End Point (Employee):[HttpRe...</td>\n      <td>...</td>\n      <td>NaN</td>\n      <td>NaN</td>\n      <td>NaN</td>\n      <td>NaN</td>\n      <td>NaN</td>\n      <td>NaN</td>\n      <td>NaN</td>\n      <td>server_version</td>\n      <td>119</td>\n      <td>[server_version, 12.0-20190820, server_version...</td>\n    </tr>\n    <tr>\n      <th>2</th>\n      <td>CreatePurchaseRequest_1.pcap</td>\n      <td>CreatePurchaseRequest</td>\n      <td>1</td>\n      <td>2020-12-21 08:08:44.690577</td>\n      <td>161</td>\n      <td>2020-12-22 11:48:38.880577</td>\n      <td>2020-12-22 11:48:38.880577</td>\n      <td>192.168.11.2-192.168.11.9 (2)</td>\n      <td>http</td>\n      <td>End Point (Employee)-&gt;Odoo Application:[HttpRe...</td>\n      <td>...</td>\n      <td>NaN</td>\n      <td>NaN</td>\n      <td>NaN</td>\n      <td>NaN</td>\n      <td>NaN</td>\n      <td>NaN</td>\n      <td>NaN</td>\n      <td>authenticate</td>\n      <td>NaN</td>\n      <td>[authenticate, odoo01, user.suername@company.c...</td>\n    </tr>\n    <tr>\n      <th>3</th>\n      <td>CreatePurchaseRequest_1.pcap</td>\n      <td>CreatePurchaseRequest</td>\n      <td>1</td>\n      <td>2020-12-21 08:08:44.985813</td>\n      <td>224</td>\n      <td>2020-12-22 12:37:51.535813</td>\n      <td>2020-12-22 12:37:51.535813</td>\n      <td>192.168.11.1-192.168.11.2 (7)</td>\n      <td>pgsql</td>\n      <td>Odoo Application-&gt;db Server/Mail Server:[Pgsql...</td>\n      <td>...</td>\n      <td>NaN</td>\n      <td>NaN</td>\n      <td>NaN</td>\n      <td>NaN</td>\n      <td>NaN</td>\n      <td>NaN</td>\n      <td>NaN</td>\n      <td>NaN</td>\n      <td>None</td>\n      <td>[]</td>\n    </tr>\n    <tr>\n      <th>4</th>\n      <td>CreatePurchaseRequest_1.pcap</td>\n      <td>CreatePurchaseRequest</td>\n      <td>1</td>\n      <td>2020-12-21 08:08:44.994598</td>\n      <td>245</td>\n      <td>2020-12-22 12:39:19.394598</td>\n      <td>2020-12-22 12:39:19.394598</td>\n      <td>192.168.11.2-192.168.11.9 (2)</td>\n      <td>http</td>\n      <td>Odoo Application-&gt;End Point (Employee):[HttpRe...</td>\n      <td>...</td>\n      <td>NaN</td>\n      <td>NaN</td>\n      <td>NaN</td>\n      <td>NaN</td>\n      <td>NaN</td>\n      <td>NaN</td>\n      <td>NaN</td>\n      <td>2</td>\n      <td>161</td>\n      <td>[2]</td>\n    </tr>\n  </tbody>\n</table>\n<p>5 rows × 239 columns</p>\n</div>"
     },
     "execution_count": 8,
     "metadata": {},
     "output_type": "execute_result"
    }
   ],
   "source": [
    "isolated_df_processed.head()"
   ],
   "metadata": {
    "collapsed": false
   }
  },
  {
   "cell_type": "code",
   "execution_count": 9,
   "outputs": [
    {
     "name": "stdout",
     "output_type": "stream",
     "text": [
      "<class 'pandas.core.frame.DataFrame'>\n",
      "RangeIndex: 26006 entries, 0 to 26005\n",
      "Columns: 239 entries, FileName to file_data\n",
      "dtypes: bool(2), float64(24), int64(2), object(211)\n",
      "memory usage: 47.1+ MB\n"
     ]
    }
   ],
   "source": [
    "isolated_df_processed.info()"
   ],
   "metadata": {
    "collapsed": false
   }
  },
  {
   "cell_type": "markdown",
   "source": [
    "## 3) Feature Engineering"
   ],
   "metadata": {
    "collapsed": false
   }
  },
  {
   "cell_type": "markdown",
   "source": [
    "In this step we create additional features from the new columns created in the pre-processing step. We break down some columns to additional columns, we create new columns from the tables' column, and we clean some values.\n",
    "After running this step we can see we now have 258 columns."
   ],
   "metadata": {
    "collapsed": false
   }
  },
  {
   "cell_type": "code",
   "execution_count": 10,
   "outputs": [
    {
     "name": "stderr",
     "output_type": "stream",
     "text": [
      "Collect values to imputer: parse_table_column: 100%|██████████| 26006/26006 [00:00<00:00, 91652.01it/s]\n",
      "Impute values from parse_table_column: 100%|██████████| 13519/13519 [00:14<00:00, 919.94it/s] \n",
      "Collect values to imputer: parse_table_column: 100%|██████████| 3717/3717 [00:00<00:00, 95308.19it/s]\n",
      "Impute values from parse_table_column: 100%|██████████| 1867/1867 [00:03<00:00, 587.56it/s] \n"
     ]
    }
   ],
   "source": [
    "# ---- Feature Engineering, manipulate features, change format, process value etc --- #\n",
    "isolated_df_engineered, interleaved_df_engineered = main.engineer_features(isolated_df_processed,\n",
    "                                                                           interleaved_df_processed,\n",
    "                                                                           feature_engineering=True)"
   ],
   "metadata": {
    "collapsed": false
   }
  },
  {
   "cell_type": "code",
   "execution_count": 11,
   "outputs": [
    {
     "name": "stdout",
     "output_type": "stream",
     "text": [
      "<class 'pandas.core.frame.DataFrame'>\n",
      "RangeIndex: 26006 entries, 0 to 26005\n",
      "Columns: 258 entries, FileName to account_move_id\n",
      "dtypes: bool(2), float64(38), int64(2), object(216)\n",
      "memory usage: 50.8+ MB\n"
     ]
    }
   ],
   "source": [
    "isolated_df_engineered.info()"
   ],
   "metadata": {
    "collapsed": false
   }
  },
  {
   "cell_type": "markdown",
   "source": [
    "## 4) Feature Selection\n",
    "In this step we select features for the clustering. We choose the features from teh isolated data set since we have the InstanceNumber column.\n",
    "We check the correlation of between all columns and Instance number, and we select all columns correlated with Instance number above 0.90\n"
   ],
   "metadata": {
    "collapsed": false
   }
  },
  {
   "cell_type": "code",
   "execution_count": 12,
   "outputs": [
    {
     "name": "stdout",
     "output_type": "stream",
     "text": [
      "Selected Features:['date_order', 'mail_followers_id', 'date_planned', 'parent_id', 'scheduled_date', 'res_name', 'attachment_id', 'sale_order_id', 'group_id', 'origin', 'new_value_datetime', 'date_expected', 'purchase_line_id', 'purchase_order_id', 'date_done', 'move_name', 'number', 'invoice_id', 'ref', 'sale_order_line_id', 'purchase_requisition_line_id', 'purchase_requisition_id', 'ir_attachment_id', 'purchase_order_line_id', 'stock_move_id', 'stock_move_line_id', 'account_invoice_line_id', 'account_move_line_id', 'account_move_id']\n"
     ]
    }
   ],
   "source": [
    "list_of_features = selector.simple_correlation_selector(isolated_df_engineered, target_column='InstanceNumber',\n",
    "                                                        save_to_file=False,\n",
    "                                                        threshold=0.90)\n",
    "\n",
    "print(f'Selected Features:{list_of_features}')"
   ],
   "metadata": {
    "collapsed": false
   }
  },
  {
   "cell_type": "markdown",
   "source": [
    "## 5) Data imputing\n",
    "In this step we impute the data in the interleaved data set.\n",
    "The idea is to fill in attributes values, so we can use them to assign a case id based on the values.\n",
    "Note - This step can take about 10 minutes to complete"
   ],
   "metadata": {
    "collapsed": false
   }
  },
  {
   "cell_type": "code",
   "execution_count": 13,
   "outputs": [
    {
     "name": "stdout",
     "output_type": "stream",
     "text": [
      "Missing data percentage before imputation:0.880924640075204\n"
     ]
    },
    {
     "name": "stderr",
     "output_type": "stream",
     "text": [
      "Impute values from parse_file_data: 100%|██████████| 136/136 [00:00<00:00, 1316.65it/s]\n",
      "Collect values to imputer: parse_html_columns: 100%|██████████| 3717/3717 [00:00<00:00, 5649.11it/s]\n",
      "Impute values from parse_html_columns: 100%|██████████| 74/74 [00:00<00:00, 1473.98it/s]\n",
      "Collect values to imputer: extract: 100%|██████████| 3717/3717 [00:00<00:00, 74158.67it/s]\n",
      "Impute values from extract: 100%|██████████| 3717/3717 [00:03<00:00, 1060.78it/s]\n",
      "Collect values to imputer: extract_po_from_res_id: 100%|██████████| 3717/3717 [00:00<00:00, 6150.64it/s]\n",
      "Impute values from extract_po_from_res_id: 100%|██████████| 118/118 [00:00<00:00, 1450.90it/s]\n",
      "Collect values to imputer: ImputeFromRequestMethodCall: 100%|██████████| 3717/3717 [00:00<00:00, 1239089.81it/s]\n",
      "C:\\Research\\cade-id-assignment\\src\\case_id_assignment\\imputing.py:367: PerformanceWarning: DataFrame is highly fragmented.  This is usually the result of calling `frame.insert` many times, which has poor performance.  Consider joining all columns at once using pd.concat(axis=1) instead. To get a de-fragmented frame, use `newframe = frame.copy()`\n",
      "  X['attribute_name'] = X['file_data'].progress_apply(_extract_attribute_name)\n",
      "Collect values to imputer: ImputeFromRequestMethodCall: 100%|██████████| 3717/3717 [00:01<00:00, 2402.05it/s]\n",
      "Impute values from _extreact_from_request_method: 100%|██████████| 340/340 [00:00<00:00, 1461.14it/s]\n",
      "Collect values to imputer: extract_from_name_column: 100%|██████████| 3717/3717 [00:00<00:00, 6055.25it/s]\n",
      "Impute values from extract_from_name_column: 100%|██████████| 10/10 [00:00<00:00, 1250.17it/s]\n",
      "Impute from similart values: 100%|██████████| 9/9 [00:00<00:00, 398.10it/s]\n",
      "Impute from stream index for HTTP: 100%|██████████| 407/407 [00:18<00:00, 21.62it/s]\n",
      "Impute from stream index: 100%|██████████| 3713/3713 [05:45<00:00, 10.76it/s]\n"
     ]
    },
    {
     "name": "stdout",
     "output_type": "stream",
     "text": [
      "Missing data percentage after imputation:0.7869893414687603\n"
     ]
    }
   ],
   "source": [
    "interleaved_df_imputed = main.impute(interleaved_df_engineered, save_results=False, impute=True)"
   ],
   "metadata": {
    "collapsed": false
   }
  },
  {
   "cell_type": "markdown",
   "source": [
    "## 6) Clustering\n",
    "Using the features detected in the previous step and the imputed data, we cluster the data using graph creation and community detection.\n",
    "We experiment with 3 community detection algorithms. Here we run the greedy_modularity_communities"
   ],
   "metadata": {
    "collapsed": false
   }
  },
  {
   "cell_type": "code",
   "execution_count": 15,
   "outputs": [
    {
     "name": "stdout",
     "output_type": "stream",
     "text": [
      "Number of clusters : 48\n"
     ]
    }
   ],
   "source": [
    "filtered_df = interleaved_df_imputed[list_of_features]\n",
    "clusters = clustering.greedy_modularity_communities(data_set=filtered_df, save_to_file=False)\n",
    "# clusters = clustering.girvan_newman(data_set=filtered_df)\n",
    "# clusters = clustering.louvain_communities(data_set=filtered_df)\n",
    "\n",
    "print(f'Number of clusters : {len(clusters)}')"
   ],
   "metadata": {
    "collapsed": false
   }
  },
  {
   "cell_type": "code",
   "execution_count": 16,
   "outputs": [
    {
     "data": {
      "text/plain": "[frozenset({('account_invoice_line_id', 256.0),\n            ('account_move_id', 270.0),\n            ('account_move_line_id', 544.0),\n            ('account_move_line_id', 545.0),\n            ('attachment_id', '6256'),\n            ('attachment_id', '6257'),\n            ('attachment_id', '6267'),\n            ('date_done', '2022-08-03 10:17:13'),\n            ('date_expected', '2022-08-03 05:37:50.209211'),\n            ('date_order', '2022-08-03 10:16:26'),\n            ('date_order', '2022-08-03 10:16:35'),\n            ('date_planned', '2022-08-03 05:37:50.209211'),\n            ('date_planned', '2022-08-03 10:16:35'),\n            ('group_id', '246'),\n            ('invoice_id', '252'),\n            ('invoice_id', 252.0),\n            ('ir_attachment_id', 6256.0),\n            ('ir_attachment_id', 6257.0),\n            ('ir_attachment_id', 6267.0),\n            ('mail_followers_id', '6190'),\n            ('mail_followers_id', '6193'),\n            ('mail_followers_id', '6194'),\n            ('mail_followers_id', '6195'),\n            ('mail_followers_id', '6213'),\n            ('mail_followers_id', '6218'),\n            ('mail_followers_id', '6219'),\n            ('move_name', 'INV/2022/0144'),\n            ('new_value_datetime', '2022-08-03 10:16:35'),\n            ('new_value_datetime', '2022-08-03 10:17:08'),\n            ('number', 'INV/2022/0144'),\n            ('origin', 'PO00999'),\n            ('parent_id', '21028'),\n            ('parent_id', '21029'),\n            ('parent_id', '21110'),\n            ('parent_id', '21136'),\n            ('purchase_line_id', '1010'),\n            ('purchase_line_id', 1010.0),\n            ('purchase_order_id', 998.0),\n            ('purchase_order_id', 999.0),\n            ('purchase_order_line_id', 1010.0),\n            ('purchase_order_line_id', 1012.0),\n            ('purchase_order_line_id', 1013.0),\n            ('purchase_order_line_id', 1014.0),\n            ('purchase_requisition_id', 346.0),\n            ('purchase_requisition_line_id', 346.0),\n            ('ref', 'INV/2022/0144/47'),\n            ('res_name', 'PO00998'),\n            ('res_name', 'PO00999'),\n            ('sale_order_id', 383.0),\n            ('sale_order_line_id', 407.0),\n            ('scheduled_date', '2022-08-03 05:37:50.209211'),\n            ('scheduled_date', '2022-08-03 10:17:08'),\n            ('stock_move_id', 280.0),\n            ('stock_move_line_id', 271.0)}),\n frozenset({('account_invoice_line_id', 255.0),\n            ('account_move_id', 269.0),\n            ('account_move_line_id', 542.0),\n            ('account_move_line_id', 543.0),\n            ('attachment_id', '6259'),\n            ('attachment_id', '6260'),\n            ('attachment_id', '6265'),\n            ('date_done', '2022-08-03 10:17:06'),\n            ('date_expected', '2022-08-03 05:37:47.146697'),\n            ('date_order', '2022-08-03 10:16:39'),\n            ('date_planned', '2022-08-03 05:37:47.146697'),\n            ('date_planned', '2022-08-03 10:16:39'),\n            ('group_id', '245'),\n            ('invoice_id', '251'),\n            ('invoice_id', 251.0),\n            ('ir_attachment_id', 6259.0),\n            ('ir_attachment_id', 6260.0),\n            ('ir_attachment_id', 6265.0),\n            ('mail_followers_id', '6189'),\n            ('mail_followers_id', '6197'),\n            ('mail_followers_id', '6198'),\n            ('mail_followers_id', '6212'),\n            ('mail_followers_id', '6214'),\n            ('mail_followers_id', '6215'),\n            ('move_name', 'INV/2022/0143'),\n            ('new_value_datetime', '2022-08-03 10:16:59'),\n            ('number', 'INV/2022/0143'),\n            ('origin', 'PO001001'),\n            ('origin', 'PO01001'),\n            ('parent_id', '21043'),\n            ('parent_id', '21044'),\n            ('parent_id', '21095'),\n            ('parent_id', '21123'),\n            ('purchase_line_id', '1011'),\n            ('purchase_line_id', 1011.0),\n            ('purchase_order_id', 1000.0),\n            ('purchase_order_id', 1001.0),\n            ('purchase_order_line_id', 1008.0),\n            ('purchase_order_line_id', 1009.0),\n            ('purchase_order_line_id', 1011.0),\n            ('purchase_requisition_id', 345.0),\n            ('purchase_requisition_line_id', 345.0),\n            ('ref', 'INV/2022/0143/46'),\n            ('res_name', 'PO001001'),\n            ('res_name', 'PO01000'),\n            ('res_name', 'PO01001'),\n            ('sale_order_id', 382.0),\n            ('sale_order_line_id', 406.0),\n            ('scheduled_date', '2022-08-03 05:37:47.146697'),\n            ('scheduled_date', '2022-08-03 10:16:59'),\n            ('stock_move_id', 279.0),\n            ('stock_move_line_id', 270.0)}),\n frozenset({('account_invoice_line_id', 257.0),\n            ('account_move_id', 271.0),\n            ('account_move_line_id', 546.0),\n            ('account_move_line_id', 547.0),\n            ('attachment_id', '6263'),\n            ('attachment_id', '6268'),\n            ('date_done', '2022-08-03 10:17:24'),\n            ('date_expected', '2022-08-03 05:38:08.887529'),\n            ('date_order', '2022-08-03 10:16:36'),\n            ('date_order', '2022-08-03 10:16:53'),\n            ('date_planned', '2022-08-03 05:38:08.887529'),\n            ('date_planned', '2022-08-03 10:16:53'),\n            ('group_id', '247'),\n            ('invoice_id', '253'),\n            ('invoice_id', 253.0),\n            ('ir_attachment_id', 6263.0),\n            ('ir_attachment_id', 6268.0),\n            ('mail_followers_id', '6196'),\n            ('mail_followers_id', '6204'),\n            ('mail_followers_id', '6206'),\n            ('mail_followers_id', '6217'),\n            ('mail_followers_id', '6221'),\n            ('mail_followers_id', '6222'),\n            ('move_name', 'INV/2022/0145'),\n            ('new_value_datetime', '2022-08-03 10:16:53'),\n            ('new_value_datetime', '2022-08-03 10:17:15'),\n            ('number', 'INV/2022/0145'),\n            ('origin', 'PO001004'),\n            ('origin', 'PO01004'),\n            ('parent_id', '21079'),\n            ('parent_id', '21127'),\n            ('parent_id', '21140'),\n            ('purchase_line_id', '1015'),\n            ('purchase_line_id', 1015.0),\n            ('purchase_order_id', 1004.0),\n            ('purchase_order_line_id', 1015.0),\n            ('purchase_order_line_id', 1016.0),\n            ('purchase_order_line_id', 1017.0),\n            ('purchase_requisition_id', 347.0),\n            ('purchase_requisition_line_id', 347.0),\n            ('ref', 'INV/2022/0145/48'),\n            ('res_name', 'PO001004'),\n            ('res_name', 'PO01004'),\n            ('sale_order_id', 384.0),\n            ('sale_order_line_id', 408.0),\n            ('scheduled_date', '2022-08-03 05:38:08.887529'),\n            ('scheduled_date', '2022-08-03 10:17:15'),\n            ('stock_move_id', 281.0),\n            ('stock_move_line_id', 272.0)}),\n frozenset({('account_invoice_line_id', 254.0),\n            ('account_move_id', 268.0),\n            ('account_move_line_id', 540.0),\n            ('account_move_line_id', 541.0),\n            ('attachment_id', '6252'),\n            ('attachment_id', '6258'),\n            ('date_done', '2022-08-03 10:16:45'),\n            ('date_expected', '2022-08-03 05:37:25.549102'),\n            ('date_order', '2022-08-03 10:15:56'),\n            ('date_order', '2022-08-03 10:16:16'),\n            ('date_planned', '2022-08-03 05:37:25.549102'),\n            ('date_planned', '2022-08-03 10:16:16'),\n            ('group_id', '244'),\n            ('invoice_id', '250'),\n            ('invoice_id', 250.0),\n            ('ir_attachment_id', 6252.0),\n            ('ir_attachment_id', 6258.0),\n            ('mail_followers_id', '6166'),\n            ('mail_followers_id', '6183'),\n            ('mail_followers_id', '6184'),\n            ('mail_followers_id', '6199'),\n            ('mail_followers_id', '6207'),\n            ('mail_followers_id', '6208'),\n            ('move_name', 'INV/2022/0142'),\n            ('new_value_datetime', '2022-08-03 10:16:16'),\n            ('new_value_datetime', '2022-08-03 10:16:39'),\n            ('number', 'INV/2022/0142'),\n            ('origin', 'PO00995'),\n            ('parent_id', '20988'),\n            ('parent_id', '21050'),\n            ('parent_id', '21082'),\n            ('purchase_line_id', '1006'),\n            ('purchase_line_id', 1006.0),\n            ('purchase_order_id', 995.0),\n            ('purchase_order_line_id', 1003.0),\n            ('purchase_order_line_id', 1004.0),\n            ('purchase_order_line_id', 1006.0),\n            ('purchase_requisition_id', 343.0),\n            ('purchase_requisition_line_id', 343.0),\n            ('ref', 'INV/2022/0142/45'),\n            ('res_name', 'PO00995'),\n            ('sale_order_id', 380.0),\n            ('sale_order_line_id', 404.0),\n            ('scheduled_date', '2022-08-03 05:37:25.549102'),\n            ('scheduled_date', '2022-08-03 10:16:39'),\n            ('stock_move_id', 278.0),\n            ('stock_move_line_id', 269.0)}),\n frozenset({('account_invoice_line_id', 253.0),\n            ('account_move_id', 267.0),\n            ('account_move_line_id', 538.0),\n            ('account_move_line_id', 539.0),\n            ('attachment_id', '6248'),\n            ('attachment_id', '6254'),\n            ('date_expected', '2022-08-03 05:37:11.990452'),\n            ('date_order', '2022-08-03 10:15:45'),\n            ('date_order', '2022-08-03 10:16:01'),\n            ('date_planned', '2022-08-03 05:37:11.990452'),\n            ('group_id', '243'),\n            ('invoice_id', '249'),\n            ('invoice_id', 249.0),\n            ('ir_attachment_id', 6248.0),\n            ('ir_attachment_id', 6254.0),\n            ('mail_followers_id', '6160'),\n            ('mail_followers_id', '6162'),\n            ('mail_followers_id', '6171'),\n            ('mail_followers_id', '6191'),\n            ('mail_followers_id', '6200'),\n            ('mail_followers_id', '6202'),\n            ('move_name', 'INV/2022/0141'),\n            ('new_value_datetime', '2022-08-03 10:16:01'),\n            ('new_value_datetime', '2022-08-03 10:16:28'),\n            ('number', 'INV/2022/0141'),\n            ('origin', 'PO00991'),\n            ('parent_id', '20940'),\n            ('parent_id', '21010'),\n            ('parent_id', '21059'),\n            ('purchase_line_id', '1002'),\n            ('purchase_line_id', 1002.0),\n            ('purchase_order_id', 991.0),\n            ('purchase_order_line_id', 1001.0),\n            ('purchase_order_line_id', 1002.0),\n            ('purchase_requisition_id', 342.0),\n            ('purchase_requisition_line_id', 342.0),\n            ('ref', 'INV/2022/0141/44'),\n            ('res_name', 'PO00991'),\n            ('sale_order_id', 379.0),\n            ('sale_order_line_id', 403.0),\n            ('scheduled_date', '2022-08-03 05:37:11.990452'),\n            ('scheduled_date', '2022-08-03 10:16:28'),\n            ('stock_move_id', 277.0),\n            ('stock_move_line_id', 268.0)}),\n frozenset({('account_invoice_line_id', 250.0),\n            ('account_move_id', 264.0),\n            ('account_move_line_id', 532.0),\n            ('account_move_line_id', 533.0),\n            ('attachment_id', '6235'),\n            ('attachment_id', '6236'),\n            ('attachment_id', '6241'),\n            ('date_done', '2022-08-03 10:15:59'),\n            ('date_expected', '2022-08-03 05:36:40.490444'),\n            ('date_order', '2022-08-03 10:15:27'),\n            ('date_planned', '2022-08-03 10:15:27'),\n            ('group_id', '240'),\n            ('invoice_id', '246'),\n            ('invoice_id', 246.0),\n            ('ir_attachment_id', 6235.0),\n            ('ir_attachment_id', 6236.0),\n            ('ir_attachment_id', 6241.0),\n            ('mail_followers_id', '6151'),\n            ('mail_followers_id', '6152'),\n            ('mail_followers_id', '6163'),\n            ('mail_followers_id', '6173'),\n            ('mail_followers_id', '6174'),\n            ('move_name', 'INV/2022/0138'),\n            ('new_value_datetime', '2022-08-03 10:15:27'),\n            ('new_value_datetime', '2022-08-03 10:15:51'),\n            ('number', 'INV/2022/0138'),\n            ('origin', 'PO00982'),\n            ('parent_id', '20851'),\n            ('parent_id', '20855'),\n            ('parent_id', '20898'),\n            ('parent_id', '20958'),\n            ('purchase_line_id', '993'),\n            ('purchase_line_id', 993.0),\n            ('purchase_order_id', 981.0),\n            ('purchase_order_id', 982.0),\n            ('purchase_order_line_id', 993.0),\n            ('ref', 'INV/2022/0138/41'),\n            ('res_name', 'PO00981'),\n            ('res_name', 'PO00982'),\n            ('scheduled_date', '2022-08-03 05:36:40.490444'),\n            ('scheduled_date', '2022-08-03 10:15:51'),\n            ('stock_move_id', 274.0),\n            ('stock_move_line_id', 265.0)}),\n frozenset({('account_invoice_line_id', 251.0),\n            ('account_move_id', 265.0),\n            ('account_move_line_id', 534.0),\n            ('account_move_line_id', 535.0),\n            ('attachment_id', '6239'),\n            ('date_done', '2022-08-03 10:16:08'),\n            ('date_expected', '2022-08-03 05:36:54.900525'),\n            ('date_order', '2022-08-03 10:15:38'),\n            ('date_planned', '2022-08-03 10:15:38'),\n            ('group_id', '241'),\n            ('invoice_id', '247'),\n            ('invoice_id', 247.0),\n            ('ir_attachment_id', 6239.0),\n            ('ir_attachment_id', 6246.0),\n            ('mail_followers_id', '6157'),\n            ('mail_followers_id', '6169'),\n            ('mail_followers_id', '6179'),\n            ('mail_followers_id', '6180'),\n            ('move_name', 'INV/2022/0139'),\n            ('new_value_datetime', '2022-08-03 10:15:38'),\n            ('number', 'INV/2022/0139'),\n            ('origin', 'PO00985'),\n            ('parent_id', '20875'),\n            ('parent_id', '20979'),\n            ('purchase_line_id', '996'),\n            ('purchase_line_id', 996.0),\n            ('purchase_order_id', 985.0),\n            ('purchase_order_line_id', 996.0),\n            ('ref', 'INV/2022/0139/42'),\n            ('res_name', 'PO00985'),\n            ('scheduled_date', '2022-08-03 05:36:54.900525'),\n            ('scheduled_date', '2022-08-03 10:16:01'),\n            ('stock_move_id', 275.0),\n            ('stock_move_line_id', 266.0)}),\n frozenset({('account_invoice_line_id', 252.0),\n            ('account_move_id', 266.0),\n            ('account_move_line_id', 536.0),\n            ('account_move_line_id', 537.0),\n            ('attachment_id', '6233'),\n            ('attachment_id', '6247'),\n            ('date_expected', '2022-08-03 05:36:34.400530'),\n            ('date_order', '2022-08-03 10:15:23'),\n            ('date_planned', '2022-08-03 10:15:23'),\n            ('group_id', '242'),\n            ('invoice_id', '248'),\n            ('invoice_id', 248.0),\n            ('ir_attachment_id', 6233.0),\n            ('ir_attachment_id', 6247.0),\n            ('mail_followers_id', '6148'),\n            ('mail_followers_id', '6170'),\n            ('mail_followers_id', '6185'),\n            ('mail_followers_id', '6187'),\n            ('move_name', 'INV/2022/0140'),\n            ('new_value_datetime', '2022-08-03 10:15:23'),\n            ('number', 'INV/2022/0140'),\n            ('origin', 'PO00979'),\n            ('parent_id', '20842'),\n            ('parent_id', '20993'),\n            ('purchase_line_id', '990'),\n            ('purchase_line_id', 990.0),\n            ('purchase_order_id', 979.0),\n            ('purchase_order_line_id', 990.0),\n            ('ref', 'INV/2022/0140/43'),\n            ('res_name', 'PO00979'),\n            ('scheduled_date', '2022-08-03 05:36:34.400530'),\n            ('stock_move_id', 276.0),\n            ('stock_move_line_id', 267.0)}),\n frozenset({('attachment_id', '6237'),\n            ('attachment_id', '6238'),\n            ('date_order', '2022-08-03 10:15:30'),\n            ('date_planned', '2022-08-03 10:15:30'),\n            ('ir_attachment_id', 6237.0),\n            ('ir_attachment_id', 6238.0),\n            ('mail_followers_id', '6153'),\n            ('mail_followers_id', '6154'),\n            ('parent_id', '20859'),\n            ('parent_id', '20863'),\n            ('purchase_order_id', 983.0),\n            ('purchase_order_id', 984.0),\n            ('res_name', 'PO00983'),\n            ('res_name', 'PO00984')}),\n frozenset({('date_order', '2022-08-03 10:15:06'),\n            ('date_planned', '2022-08-03 05:36:34.400530'),\n            ('mail_followers_id', '6143'),\n            ('mail_followers_id', '6144'),\n            ('purchase_order_line_id', 989.0),\n            ('purchase_order_line_id', 992.0),\n            ('purchase_order_line_id', 994.0),\n            ('purchase_requisition_id', 338.0),\n            ('purchase_requisition_line_id', 338.0),\n            ('sale_order_id', 375.0),\n            ('sale_order_line_id', 399.0)}),\n frozenset({('date_order', '2022-08-03 10:15:15'),\n            ('date_planned', '2022-08-03 05:36:40.490444'),\n            ('mail_followers_id', '6145'),\n            ('mail_followers_id', '6147'),\n            ('purchase_order_line_id', 991.0),\n            ('purchase_order_line_id', 995.0),\n            ('purchase_requisition_id', 339.0),\n            ('purchase_requisition_line_id', 339.0),\n            ('sale_order_id', 376.0),\n            ('sale_order_line_id', 400.0)}),\n frozenset({('date_order', '2022-08-03 10:15:26'),\n            ('date_planned', '2022-08-03 05:36:54.900525'),\n            ('mail_followers_id', '6150'),\n            ('mail_followers_id', '6155'),\n            ('purchase_order_line_id', 997.0),\n            ('purchase_requisition_id', 340.0),\n            ('purchase_requisition_line_id', 340.0),\n            ('sale_order_id', 377.0),\n            ('sale_order_line_id', 401.0)}),\n frozenset({('attachment_id', '6232'),\n            ('date_order', '2022-08-03 10:15:18'),\n            ('date_planned', '2022-08-03 10:15:18'),\n            ('ir_attachment_id', 6232.0),\n            ('mail_followers_id', '6146'),\n            ('parent_id', '20835'),\n            ('purchase_order_id', 978.0),\n            ('res_name', 'PO00978')}),\n frozenset({('attachment_id', '6255'),\n            ('date_order', '2022-08-03 10:16:31'),\n            ('date_planned', '2022-08-03 10:16:31'),\n            ('ir_attachment_id', 6255.0),\n            ('mail_followers_id', '6192'),\n            ('parent_id', '21019'),\n            ('purchase_order_id', 997.0),\n            ('res_name', 'PO00997')}),\n frozenset({('attachment_id', '6261'),\n            ('date_order', '2022-08-03 10:16:42'),\n            ('date_planned', '2022-08-03 10:16:42'),\n            ('ir_attachment_id', 6261.0),\n            ('mail_followers_id', '6201'),\n            ('parent_id', '21063'),\n            ('purchase_order_id', 1002.0),\n            ('res_name', 'PO01002')}),\n frozenset({('attachment_id', '6262'),\n            ('date_order', '2022-08-03 10:16:45'),\n            ('date_planned', '2022-08-03 10:16:45'),\n            ('ir_attachment_id', 6262.0),\n            ('mail_followers_id', '6205'),\n            ('parent_id', '21073'),\n            ('purchase_order_id', 1003.0),\n            ('res_name', 'PO01003')}),\n frozenset({('attachment_id', '6244'),\n            ('date_order', '2022-08-03 10:15:54'),\n            ('date_planned', '2022-08-03 10:15:54'),\n            ('ir_attachment_id', 6244.0),\n            ('mail_followers_id', '6165'),\n            ('parent_id', '20914'),\n            ('purchase_order_id', 989.0),\n            ('res_name', 'PO00989')}),\n frozenset({('attachment_id', '6240'),\n            ('date_order', '2022-08-03 10:15:41'),\n            ('date_planned', '2022-08-03 10:15:41'),\n            ('ir_attachment_id', 6240.0),\n            ('mail_followers_id', '6158'),\n            ('parent_id', '20879'),\n            ('purchase_order_id', 986.0),\n            ('res_name', 'PO00986')}),\n frozenset({('attachment_id', '6250'),\n            ('date_order', '2022-08-03 10:16:13'),\n            ('date_planned', '2022-08-03 10:16:13'),\n            ('ir_attachment_id', 6250.0),\n            ('mail_followers_id', '6178'),\n            ('parent_id', '20976'),\n            ('purchase_order_id', 993.0),\n            ('res_name', 'PO00993')}),\n frozenset({('attachment_id', '6251'),\n            ('date_order', '2022-08-03 10:16:15'),\n            ('date_planned', '2022-08-03 10:16:15'),\n            ('ir_attachment_id', 6251.0),\n            ('mail_followers_id', '6182'),\n            ('parent_id', '20982'),\n            ('purchase_order_id', 994.0),\n            ('res_name', 'PO00994')}),\n frozenset({('attachment_id', '6234'),\n            ('date_order', '2022-08-03 10:15:25'),\n            ('date_planned', '2022-08-03 10:15:25'),\n            ('ir_attachment_id', 6234.0),\n            ('mail_followers_id', '6149'),\n            ('parent_id', '20845'),\n            ('purchase_order_id', 980.0),\n            ('res_name', 'PO00980')}),\n frozenset({('attachment_id', '6266'),\n            ('date_order', '2022-08-03 10:16:58'),\n            ('date_planned', '2022-08-03 10:16:58'),\n            ('ir_attachment_id', 6266.0),\n            ('mail_followers_id', '6211'),\n            ('parent_id', '21091'),\n            ('purchase_order_id', 1006.0),\n            ('res_name', 'PO01006')}),\n frozenset({('attachment_id', '6264'),\n            ('date_order', '2022-08-03 10:16:56'),\n            ('date_planned', '2022-08-03 10:16:56'),\n            ('ir_attachment_id', 6264.0),\n            ('mail_followers_id', '6210'),\n            ('parent_id', '21086'),\n            ('purchase_order_id', 1005.0),\n            ('res_name', 'PO01005')}),\n frozenset({('attachment_id', '6243'),\n            ('date_order', '2022-08-03 10:15:52'),\n            ('date_planned', '2022-08-03 10:15:52'),\n            ('ir_attachment_id', 6243.0),\n            ('mail_followers_id', '6164'),\n            ('parent_id', '20908'),\n            ('purchase_order_id', 988.0),\n            ('res_name', 'PO00988')}),\n frozenset({('attachment_id', '6249'),\n            ('date_order', '2022-08-03 10:16:10'),\n            ('date_planned', '2022-08-03 10:16:10'),\n            ('ir_attachment_id', 6249.0),\n            ('mail_followers_id', '6176'),\n            ('parent_id', '20963'),\n            ('purchase_order_id', 992.0),\n            ('res_name', 'PO00992')}),\n frozenset({('attachment_id', '6242'),\n            ('date_order', '2022-08-03 10:15:48'),\n            ('date_planned', '2022-08-03 10:15:48'),\n            ('ir_attachment_id', 6242.0),\n            ('mail_followers_id', '6161'),\n            ('parent_id', '20891'),\n            ('purchase_order_id', 987.0),\n            ('res_name', 'PO00987')}),\n frozenset({('attachment_id', '6253'),\n            ('date_order', '2022-08-03 10:16:19'),\n            ('date_planned', '2022-08-03 10:16:19'),\n            ('ir_attachment_id', 6253.0),\n            ('mail_followers_id', '6186'),\n            ('parent_id', '20995'),\n            ('purchase_order_id', 996.0),\n            ('res_name', 'PO00996')}),\n frozenset({('date_order', '2022-08-03 10:15:57'),\n            ('date_planned', '2022-08-03 10:15:57'),\n            ('ir_attachment_id', 6245.0),\n            ('mail_followers_id', '6167'),\n            ('parent_id', '20920'),\n            ('purchase_order_id', 990.0),\n            ('res_name', 'PO00990')}),\n frozenset({('date_order', '2022-08-03 10:15:35'),\n            ('mail_followers_id', '6156'),\n            ('mail_followers_id', '6159'),\n            ('purchase_requisition_id', 341.0),\n            ('purchase_requisition_line_id', 341.0),\n            ('sale_order_id', 378.0),\n            ('sale_order_line_id', 402.0)}),\n frozenset({('date_order', '2022-08-03 10:16:06'),\n            ('mail_followers_id', '6172'),\n            ('mail_followers_id', '6177'),\n            ('purchase_requisition_id', 344.0),\n            ('purchase_requisition_line_id', 344.0),\n            ('sale_order_id', 381.0),\n            ('sale_order_line_id', 405.0)}),\n frozenset({('date_planned', '2022-08-03 05:37:04.345969'),\n            ('purchase_order_line_id', 998.0),\n            ('purchase_order_line_id', 999.0),\n            ('purchase_order_line_id', 1000.0)}),\n frozenset({('date_planned', '2022-08-03 05:37:31.278157'),\n            ('purchase_order_line_id', 1005.0),\n            ('purchase_order_line_id', 1007.0)}),\n frozenset({('mail_followers_id', '6175')}),\n frozenset({('date_planned', '2022-08-03 10:16:01')}),\n frozenset({('attachment_id', '6246')}),\n frozenset({('mail_followers_id', '6168')}),\n frozenset({('mail_followers_id', '6223')}),\n frozenset({('parent_id', '20932')}),\n frozenset({('mail_followers_id', '6181')}),\n frozenset({('mail_followers_id', '6216')}),\n frozenset({('parent_id', '20933')}),\n frozenset({('mail_followers_id', '6220')}),\n frozenset({('mail_followers_id', '6188')}),\n frozenset({('date_done', '2022-08-03 10:16:12')}),\n frozenset({('attachment_id', '6245')}),\n frozenset({('mail_followers_id', '6203')}),\n frozenset({('mail_followers_id', '6209')}),\n frozenset({('date_done', '2022-08-03 10:16:36')})]"
     },
     "execution_count": 16,
     "metadata": {},
     "output_type": "execute_result"
    }
   ],
   "source": [
    "clusters"
   ],
   "metadata": {
    "collapsed": false
   }
  },
  {
   "cell_type": "markdown",
   "source": [
    "## 7) Case id assignment\n",
    "Now that we have the clusters we can use them to assign a case id to packets containing the features we identify in the feature selection step.\n",
    "We enumerate the clusters giving each cluster a number.\n",
    "In the interleaved data, we extract features' values from each row and check to which cluster these features belongs to.\n",
    "The row is then assigned with the identified cluster's number as a case id.\n",
    "For rows which did not have any attributes, we assign the closes packet's case id\n"
   ],
   "metadata": {
    "collapsed": false
   }
  },
  {
   "cell_type": "code",
   "execution_count": 17,
   "outputs": [
    {
     "data": {
      "text/plain": "0it [00:00, ?it/s]",
      "application/vnd.jupyter.widget-view+json": {
       "version_major": 2,
       "version_minor": 0,
       "model_id": "dd6fa66b3fd44a3e88eec23ae5011e41"
      }
     },
     "metadata": {},
     "output_type": "display_data"
    },
    {
     "data": {
      "text/plain": "Assign case id to packets containing attributes values:   0%|          | 0/3717 [00:00<?, ?it/s]",
      "application/vnd.jupyter.widget-view+json": {
       "version_major": 2,
       "version_minor": 0,
       "model_id": "0d45d01eb2c24d368b9866718f35d25f"
      }
     },
     "metadata": {},
     "output_type": "display_data"
    },
    {
     "name": "stderr",
     "output_type": "stream",
     "text": [
      "C:\\Research\\cade-id-assignment\\src\\case_id_assignment\\assignment.py:41: PerformanceWarning: DataFrame is highly fragmented.  This is usually the result of calling `frame.insert` many times, which has poor performance.  Consider joining all columns at once using pd.concat(axis=1) instead. To get a de-fragmented frame, use `newframe = frame.copy()`\n",
      "  data_set['case_id'] = case_id_column\n"
     ]
    },
    {
     "data": {
      "text/plain": "Assign the closest case id to activity actions:   0%|          | 0/3717 [00:00<?, ?it/s]",
      "application/vnd.jupyter.widget-view+json": {
       "version_major": 2,
       "version_minor": 0,
       "model_id": "0868015b86934b8da799a9c8e967c909"
      }
     },
     "metadata": {},
     "output_type": "display_data"
    },
    {
     "name": "stderr",
     "output_type": "stream",
     "text": [
      "C:\\Research\\cade-id-assignment\\src\\case_id_assignment\\assignment.py:111: PerformanceWarning: DataFrame is highly fragmented.  This is usually the result of calling `frame.insert` many times, which has poor performance.  Consider joining all columns at once using pd.concat(axis=1) instead. To get a de-fragmented frame, use `newframe = frame.copy()`\n",
      "  data_set['CaseIDVoting'] = case_id_voting\n"
     ]
    }
   ],
   "source": [
    "results_data_set = case_id_assigner.assign_case_id(data_set=interleaved_df_imputed, attributes=list_of_features,\n",
    "                                                   clusters=clusters)\n",
    "results_data_set = case_id_assigner.assign_case_id_to_activity_action(data_set=interleaved_df_imputed)"
   ],
   "metadata": {
    "collapsed": false
   }
  },
  {
   "cell_type": "markdown",
   "source": [
    "We can observe the case id assignment in the"
   ],
   "metadata": {
    "collapsed": false
   }
  },
  {
   "cell_type": "code",
   "execution_count": 18,
   "outputs": [
    {
     "data": {
      "text/plain": "     real_activity_action  real_case_id case_id CaseIDVoting\n0          Activity Start         399.0   set()          {9}\n1                NoAction         399.0   set()        set()\n2                NoAction           NaN   set()        set()\n3                NoAction           NaN   set()        set()\n4                NoAction           NaN   set()        set()\n...                   ...           ...     ...          ...\n3712             NoAction           NaN    {36}         {36}\n3713             NoAction           NaN    {36}         {36}\n3714             NoAction           NaN    {36}         {36}\n3715             NoAction           NaN    {36}         {36}\n3716         Activity End         408.0   set()         {36}\n\n[3717 rows x 4 columns]",
      "text/html": "<div>\n<style scoped>\n    .dataframe tbody tr th:only-of-type {\n        vertical-align: middle;\n    }\n\n    .dataframe tbody tr th {\n        vertical-align: top;\n    }\n\n    .dataframe thead th {\n        text-align: right;\n    }\n</style>\n<table border=\"1\" class=\"dataframe\">\n  <thead>\n    <tr style=\"text-align: right;\">\n      <th></th>\n      <th>real_activity_action</th>\n      <th>real_case_id</th>\n      <th>case_id</th>\n      <th>CaseIDVoting</th>\n    </tr>\n  </thead>\n  <tbody>\n    <tr>\n      <th>0</th>\n      <td>Activity Start</td>\n      <td>399.0</td>\n      <td>set()</td>\n      <td>{9}</td>\n    </tr>\n    <tr>\n      <th>1</th>\n      <td>NoAction</td>\n      <td>399.0</td>\n      <td>set()</td>\n      <td>set()</td>\n    </tr>\n    <tr>\n      <th>2</th>\n      <td>NoAction</td>\n      <td>NaN</td>\n      <td>set()</td>\n      <td>set()</td>\n    </tr>\n    <tr>\n      <th>3</th>\n      <td>NoAction</td>\n      <td>NaN</td>\n      <td>set()</td>\n      <td>set()</td>\n    </tr>\n    <tr>\n      <th>4</th>\n      <td>NoAction</td>\n      <td>NaN</td>\n      <td>set()</td>\n      <td>set()</td>\n    </tr>\n    <tr>\n      <th>...</th>\n      <td>...</td>\n      <td>...</td>\n      <td>...</td>\n      <td>...</td>\n    </tr>\n    <tr>\n      <th>3712</th>\n      <td>NoAction</td>\n      <td>NaN</td>\n      <td>{36}</td>\n      <td>{36}</td>\n    </tr>\n    <tr>\n      <th>3713</th>\n      <td>NoAction</td>\n      <td>NaN</td>\n      <td>{36}</td>\n      <td>{36}</td>\n    </tr>\n    <tr>\n      <th>3714</th>\n      <td>NoAction</td>\n      <td>NaN</td>\n      <td>{36}</td>\n      <td>{36}</td>\n    </tr>\n    <tr>\n      <th>3715</th>\n      <td>NoAction</td>\n      <td>NaN</td>\n      <td>{36}</td>\n      <td>{36}</td>\n    </tr>\n    <tr>\n      <th>3716</th>\n      <td>Activity End</td>\n      <td>408.0</td>\n      <td>set()</td>\n      <td>{36}</td>\n    </tr>\n  </tbody>\n</table>\n<p>3717 rows × 4 columns</p>\n</div>"
     },
     "execution_count": 18,
     "metadata": {},
     "output_type": "execute_result"
    }
   ],
   "source": [
    "results_data_set[['real_activity_action', 'real_case_id', 'case_id', 'CaseIDVoting']]"
   ],
   "metadata": {
    "collapsed": false
   }
  },
  {
   "cell_type": "markdown",
   "source": [
    "## 8) Evaluation\n",
    "In this step we evaluate the clustering.\n",
    "We use the following metrics for evaluation :\n",
    "results_data_set = case_id_assigner.assign_case_id_to_activity_action(data_set=interleaved_df_imputed)\n",
    "1) Rand index\n",
    "2) Homogeneity, completeness and V-measure.\n",
    "3)\n",
    "Rand index measures the similarity of the two assignments, ignoring permutations. Homogeneity measures if\n",
    "each cluster contains only members of a single class, completeness measures if all members of a given class are\n",
    "assigned to the same cluster, V-measure is their harmonic mean. For all metrics, the closes to 1 the better and\n",
    "vice versa.\n"
   ],
   "metadata": {
    "collapsed": false
   }
  },
  {
   "cell_type": "code",
   "execution_count": 20,
   "outputs": [
    {
     "name": "stdout",
     "output_type": "stream",
     "text": [
      "Rand Score : 0.8957460317460317\n",
      "Homogeneity : 0.6600092899816811\n",
      "Completeness : 0.4858060794105318\n",
      "V_measure : 0.5596652551634177\n"
     ]
    }
   ],
   "source": [
    "rand_score, homogeneity, completeness, v_measure = evaluation.evaluate_case_id_accuracy(\n",
    "    data_set=results_data_set)\n",
    "\n",
    "print(f'Rand Score : {rand_score}')\n",
    "print(f'Homogeneity : {homogeneity}')\n",
    "print(f'Completeness : {completeness}')\n",
    "print(f'V_measure : {v_measure}')"
   ],
   "metadata": {
    "collapsed": false
   }
  },
  {
   "cell_type": "code",
   "execution_count": null,
   "outputs": [],
   "source": [],
   "metadata": {
    "collapsed": false
   }
  }
 ],
 "metadata": {
  "kernelspec": {
   "display_name": "Python 3",
   "language": "python",
   "name": "python3"
  },
  "language_info": {
   "codemirror_mode": {
    "name": "ipython",
    "version": 2
   },
   "file_extension": ".py",
   "mimetype": "text/x-python",
   "name": "python",
   "nbconvert_exporter": "python",
   "pygments_lexer": "ipython2",
   "version": "2.7.6"
  }
 },
 "nbformat": 4,
 "nbformat_minor": 0
}
